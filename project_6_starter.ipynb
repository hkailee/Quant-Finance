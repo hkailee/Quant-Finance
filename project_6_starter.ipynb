{
 "cells": [
  {
   "cell_type": "markdown",
   "metadata": {},
   "source": [
    "# Project 6: Analyzing Stock Sentiment from Twits\n",
    "## Instructions\n",
    "Each problem consists of a function to implement and instructions on how to implement the function.  The parts of the function that need to be implemented are marked with a `# TODO` comment.\n",
    "\n",
    "## Packages\n",
    "When you implement the functions, you'll only need to you use the packages you've used in the classroom, like [Pandas](https://pandas.pydata.org/) and [Numpy](http://www.numpy.org/). These packages will be imported for you. We recommend you don't add any import statements, otherwise the grader might not be able to run your code.\n",
    "\n",
    "### Load Packages"
   ]
  },
  {
   "cell_type": "code",
   "execution_count": 1,
   "metadata": {},
   "outputs": [],
   "source": [
    "import json\n",
    "import nltk\n",
    "import os\n",
    "import random\n",
    "import re\n",
    "import torch\n",
    "\n",
    "from torch import nn, optim\n",
    "import torch.nn.functional as F"
   ]
  },
  {
   "cell_type": "markdown",
   "metadata": {},
   "source": [
    "## Introduction\n",
    "When deciding the value of a company, it's important to follow the news. For example, a product recall or natural disaster in a company's product chain. You want to be able to turn this information into a signal. Currently, the best tool for the job is a Neural Network. \n",
    "\n",
    "For this project, you'll use posts from the social media site [StockTwits](https://en.wikipedia.org/wiki/StockTwits). The community on StockTwits is full of investors, traders, and entrepreneurs. Each message posted is called a Twit. This is similar to Twitter's version of a post, called a Tweet. You'll build a model around these twits that generate a sentiment score.\n",
    "\n",
    "We've collected a bunch of twits, then hand labeled the sentiment of each. To capture the degree of sentiment, we'll use a five-point scale: very negative, negative, neutral, positive, very positive. Each twit is labeled -2 to 2 in steps of 1, from very negative to very positive respectively. You'll build a sentiment analysis model that will learn to assign sentiment to twits on its own, using this labeled data.\n",
    "\n",
    "The first thing we should to do, is load the data.\n",
    "\n",
    "## Import Twits \n",
    "### Load Twits Data \n",
    "This JSON file contains a list of objects for each twit in the `'data'` field:\n",
    "\n",
    "```\n",
    "{'data':\n",
    "  {'message_body': 'Neutral twit body text here',\n",
    "   'sentiment': 0},\n",
    "  {'message_body': 'Happy twit body text here',\n",
    "   'sentiment': 1},\n",
    "   ...\n",
    "}\n",
    "```\n",
    "\n",
    "The fields represent the following:\n",
    "\n",
    "* `'message_body'`: The text of the twit.\n",
    "* `'sentiment'`: Sentiment score for the twit, ranges from -2 to 2 in steps of 1, with 0 being neutral.\n",
    "\n",
    "\n",
    "To see what the data look like by printing the first 10 twits from the list. "
   ]
  },
  {
   "cell_type": "code",
   "execution_count": 2,
   "metadata": {},
   "outputs": [
    {
     "name": "stdout",
     "output_type": "stream",
     "text": [
      "[{'timestamp': '2018-07-01T00:00:09Z', 'sentiment': 2, 'message_body': '$FITB great buy at 26.00...ill wait'}, {'timestamp': '2018-07-01T00:00:42Z', 'sentiment': 1, 'message_body': '@StockTwits $MSFT'}, {'timestamp': '2018-07-01T00:01:24Z', 'sentiment': 2, 'message_body': '#STAAnalystAlert for $TDG : Jefferies Maintains with a rating of Hold setting target price at USD 350.00. Our own verdict is Buy  http://www.stocktargetadvisor.com/toprating'}, {'timestamp': '2018-07-01T00:01:47Z', 'sentiment': 1, 'message_body': '$AMD I heard there’s a guy who knows someone who thinks somebody knows something - on StockTwits.'}, {'timestamp': '2018-07-01T00:02:13Z', 'sentiment': 0, 'message_body': '$AMD reveal yourself!'}, {'timestamp': '2018-07-01T00:03:10Z', 'sentiment': 1, 'message_body': '$AAPL Why the drop? I warren Buffet taking out his position?'}, {'timestamp': '2018-07-01T00:04:09Z', 'sentiment': -2, 'message_body': '$BA bears have 1 reason on 06-29 to pay more attention https://dividendbot.com?s=BA'}, {'timestamp': '2018-07-01T00:04:17Z', 'sentiment': 1, 'message_body': '$BAC ok good we&#39;re not dropping in price over the weekend, lol'}, {'timestamp': '2018-07-01T00:08:01Z', 'sentiment': 2, 'message_body': '$AMAT - Daily Chart, we need to get back to above 50.'}, {'timestamp': '2018-07-01T00:09:03Z', 'sentiment': -2, 'message_body': '$GME 3% drop per week after spike... if no news in 3 months, back to 12s... if BO, then bingo... what is the odds?'}]\n"
     ]
    }
   ],
   "source": [
    "with open(os.path.join('data', 'project_6_stocktwits', 'twits.json'), 'r') as f:\n",
    "    twits = json.load(f)\n",
    "\n",
    "print(twits['data'][:10])"
   ]
  },
  {
   "cell_type": "markdown",
   "metadata": {},
   "source": [
    "### Length of Data\n",
    "Now let's look at the number of twits in dataset. Print the number of twits below."
   ]
  },
  {
   "cell_type": "code",
   "execution_count": 3,
   "metadata": {},
   "outputs": [
    {
     "name": "stdout",
     "output_type": "stream",
     "text": [
      "1548010\n"
     ]
    }
   ],
   "source": [
    "\"\"\"print out the number of twits\"\"\"\n",
    "\n",
    "# TODO Implement \n",
    "print(len(twits['data']))"
   ]
  },
  {
   "cell_type": "markdown",
   "metadata": {},
   "source": [
    "### Split Message Body and Sentiment Score"
   ]
  },
  {
   "cell_type": "code",
   "execution_count": 4,
   "metadata": {},
   "outputs": [
    {
     "name": "stdout",
     "output_type": "stream",
     "text": [
      "['$FITB great buy at 26.00...ill wait', '@StockTwits $MSFT', '#STAAnalystAlert for $TDG : Jefferies Maintains with a rating of Hold setting target price at USD 350.00. Our own verdict is Buy  http://www.stocktargetadvisor.com/toprating', '$AMD I heard there’s a guy who knows someone who thinks somebody knows something - on StockTwits.', '$AMD reveal yourself!']\n",
      "[4, 3, 4, 3, 2]\n"
     ]
    }
   ],
   "source": [
    "messages = [twit['message_body'] for twit in twits['data']]\n",
    "print(messages[:5])\n",
    "# Since the sentiment scores are discrete, we'll scale the sentiments to 0 to 4 for use in our network\n",
    "sentiments = [twit['sentiment'] + 2 for twit in twits['data']]\n",
    "print(sentiments[:5])"
   ]
  },
  {
   "cell_type": "markdown",
   "metadata": {},
   "source": [
    "## Preprocessing the Data\n",
    "With our data in hand we need to preprocess our text. These twits are collected by filtering on ticker symbols where these are denoted with a leader $ symbol in the twit itself. For example,\n",
    "\n",
    "`{'message_body': 'RT @google Our annual look at the year in Google blogging (and beyond) http://t.co/sptHOAh8 $GOOG',\n",
    " 'sentiment': 0}`\n",
    "\n",
    "The ticker symbols don't provide information on the sentiment, and they are in every twit, so we should remove them. This twit also has the `@google` username, again not providing sentiment information, so we should also remove it. We also see a URL `http://t.co/sptHOAh8`. Let's remove these too.\n",
    "\n",
    "The easiest way to remove specific words or phrases is with regex using the `re` module. You can sub out specific patterns with a space:\n",
    "\n",
    "```python\n",
    "re.sub(pattern, ' ', text)\n",
    "```\n",
    "This will substitute a space with anywhere the pattern matches in the text. Later when we tokenize the text, we'll split appropriately on those spaces."
   ]
  },
  {
   "cell_type": "markdown",
   "metadata": {},
   "source": [
    "### Pre-Processing"
   ]
  },
  {
   "cell_type": "code",
   "execution_count": 5,
   "metadata": {},
   "outputs": [
    {
     "name": "stderr",
     "output_type": "stream",
     "text": [
      "[nltk_data] Downloading package wordnet to\n",
      "[nltk_data]     /Users/leehongkai/nltk_data...\n",
      "[nltk_data]   Package wordnet is already up-to-date!\n"
     ]
    }
   ],
   "source": [
    "nltk.download('wordnet')\n",
    "import re\n",
    "\n",
    "def preprocess(message):\n",
    "    \"\"\"\n",
    "    This function takes a string as input, then performs these operations: \n",
    "        - lowercase\n",
    "        - remove URLs\n",
    "        - remove ticker symbols \n",
    "        - removes punctuation\n",
    "        - tokenize by splitting the string on whitespace \n",
    "        - removes any single character tokens\n",
    "    \n",
    "    Parameters\n",
    "    ----------\n",
    "        message : The text message to be preprocessed.\n",
    "        \n",
    "    Returns\n",
    "    -------\n",
    "        tokens: The preprocessed text into tokens.\n",
    "    \"\"\" \n",
    "    #TODO: Implement \n",
    "    \n",
    "    # Lowercase the twit message\n",
    "    text = message.lower()\n",
    "    \n",
    "    # Replace URLs with a space in the message\n",
    "    text = re.sub(r'http[s]*://[\\S]*', ' ', text)\n",
    "    \n",
    "    # Replace ticker symbols with a space. The ticker symbols are any stock symbol that starts with $.\n",
    "    text = re.sub(r'\\$[A-Za-z]+', ' ', text)\n",
    "    \n",
    "    # Replace StockTwits usernames with a space. The usernames are any word that starts with @.\n",
    "    text = re.sub(r'\\@[\\S]+', ' ', text)\n",
    "\n",
    "    # Replace everything not a letter with a space\n",
    "    text = re.sub(r'[^A-Za-z]+', ' ', text)\n",
    "    \n",
    "    # Tokenize by splitting the string on whitespace into a list of words\n",
    "    text = text.split('\\n') # In case there is new line in the text\n",
    "    text = ' '.join(text)\n",
    "    tokens = text.split()\n",
    "\n",
    "    # Lemmatize words using the WordNetLemmatizer. You can ignore any word that is not longer than one character.\n",
    "\n",
    "    wnl = nltk.stem.WordNetLemmatizer()\n",
    "    tokens = [wnl.lemmatize(word, pos=\"v\") for word in tokens if len(word)>1 ] \n",
    "    \n",
    "    return tokens\n"
   ]
  },
  {
   "cell_type": "markdown",
   "metadata": {},
   "source": [
    "### Preprocess All the Twits \n",
    "Now we can preprocess each of the twits in our dataset. Apply the function `preprocess` to all the twit messages."
   ]
  },
  {
   "cell_type": "code",
   "execution_count": 6,
   "metadata": {},
   "outputs": [
    {
     "data": {
      "text/plain": [
       "['great',\n",
       " 'buy',\n",
       " 'at',\n",
       " 'ill',\n",
       " 'wait',\n",
       " 'staanalystalert',\n",
       " 'for',\n",
       " 'jefferies',\n",
       " 'maintain',\n",
       " 'with']"
      ]
     },
     "execution_count": 6,
     "metadata": {},
     "output_type": "execute_result"
    }
   ],
   "source": [
    "# TODO Implement\n",
    "\n",
    "# define traverse to unlist the lists in a list\n",
    "def traverse(o, tree_types=(list, tuple)):\n",
    "    if isinstance(o, tree_types):\n",
    "        for value in o:\n",
    "            for subvalue in traverse(value, tree_types):\n",
    "                yield subvalue\n",
    "    else:\n",
    "        yield o\n",
    "\n",
    "tokenized = [preprocess(message) for message in messages]\n",
    "tokenized = list(traverse(tokenized))\n",
    "tokenized[:10]"
   ]
  },
  {
   "cell_type": "markdown",
   "metadata": {},
   "source": [
    "### Bag of Words\n",
    "Now with all of our messages tokenized, we want to create a vocabulary and count up how often each word appears in our entire corpus. Use the [`Counter`](https://docs.python.org/3.1/library/collections.html#collections.Counter) function to count up all the tokens."
   ]
  },
  {
   "cell_type": "code",
   "execution_count": 7,
   "metadata": {},
   "outputs": [],
   "source": [
    "from collections import Counter\n",
    "\n",
    "\"\"\"\n",
    "Create a vocabulary by using Bag of words\n",
    "\"\"\"\n",
    "\n",
    "# TODO: Implement \n",
    "\n",
    "bow = Counter(tokenized)\n",
    "sorted_vocab_raw = sorted(bow, key=bow.get, reverse=True)\n",
    "bow = {word: bow[word] for word in sorted_vocab_raw}\n",
    "\n",
    "# bow = Counter()\n",
    "# for t in tokenized:\n",
    "#     bow.update(t)"
   ]
  },
  {
   "cell_type": "markdown",
   "metadata": {},
   "source": [
    "### Frequency of Words Appearing in Message\n",
    "With our vocabulary, now we'll remove some of the most common words such as 'the', 'and', 'it', etc. These words don't contribute to identifying sentiment and are really common, resulting in a lot of noise in our input. If we can filter these out, then our network should have an easier time learning.\n",
    "\n",
    "We also want to remove really rare words that show up in a only a few twits. Here you'll want to divide the count of each word by the number of messages. Then remove words that only appear in some small fraction of the messages."
   ]
  },
  {
   "cell_type": "code",
   "execution_count": 8,
   "metadata": {},
   "outputs": [
    {
     "name": "stdout",
     "output_type": "stream",
     "text": [
      "['be', 'the', 'to', 'for', 'on', 'of', 'and', 'in', 'this', 'it', 'at', 'will']\n"
     ]
    },
    {
     "data": {
      "text/plain": [
       "4086"
      ]
     },
     "execution_count": 8,
     "metadata": {},
     "output_type": "execute_result"
    }
   ],
   "source": [
    "\"\"\"\n",
    "Set the following variables:\n",
    "    freqs\n",
    "    low_cutoff\n",
    "    high_cutoff\n",
    "    K_most_common\n",
    "\"\"\"\n",
    "\n",
    "# TODO Implement \n",
    "\n",
    "# Dictionary that contains the Frequency of words appearing in messages.\n",
    "# The key is the token and the value is the frequency of that word in the corpus.\n",
    "total_count = len(tokenized)\n",
    "freqs = {word: count/total_count for word, count in bow.items()}\n",
    "\n",
    "# Float that is the frequency cutoff. Drop words with a frequency that is lower or equal to this number.\n",
    "low_cutoff = 1e-5\n",
    "\n",
    "# Integer that is the cut off for most common words. Drop words that are the `high_cutoff` most common words.\n",
    "high_cutoff = 12\n",
    "\n",
    "# The k most common words in the corpus. Use `high_cutoff` as the k.\n",
    "K_most_common = sorted_vocab_raw[:12]\n",
    "\n",
    "filtered_words = [word for word in freqs if (freqs[word] > low_cutoff and word not in K_most_common)]\n",
    "print(K_most_common)\n",
    "len(filtered_words) \n"
   ]
  },
  {
   "cell_type": "markdown",
   "metadata": {},
   "source": [
    "### Updating Vocabulary by Removing Filtered Words\n",
    "Let's creat three variables that will help with our vocabulary."
   ]
  },
  {
   "cell_type": "code",
   "execution_count": 40,
   "metadata": {},
   "outputs": [
    {
     "name": "stdout",
     "output_type": "stream",
     "text": [
      "{'eps': 3849, 'gamers': 3833, 'monopoly': 2556, 'dollar': 3569, 'everyone': 2432, 'afford': 1671, 'green': 3718, 'long': 741, 'puke': 2433, 'patient': 997, 'wks': 1545, 'criminal': 3850, 'oracle': 140, 'add': 743, 'rofl': 3749, 'offer': 998, 'dust': 3296, 'dime': 2327, 'typical': 1136, 'milk': 1411, 'changer': 2434, 'pmest': 817, 'turn': 744, 'lrcx': 2786, 'diff': 1547, 'cliff': 3025, 'curve': 1960, 'struggle': 2557, 'hynix': 261, 'ir': 641, 'subscribers': 3458, 'expense': 3595, 'dead': 2902, 'rekt': 2086, 'close': 753, 'elsewhere': 1588, 'onto': 3937, 'bipolar': 1318, 'literally': 3162, 'la': 262, 'apparel': 2565, 'folks': 745, 'lose': 1412, 'corrupt': 3724, 'speech': 3638, 'bottom': 1555, 'rare': 1548, 'recent': 141, 'dirty': 3633, 'anymore': 3820, 'putin': 2957, 'stabilize': 2787, 'pick': 726, 'emotions': 1276, 'ten': 142, 'erase': 3298, 'arent': 1557, 'survey': 1000, 'hot': 263, 'move': 1549, 'software': 2867, 'breathe': 676, 'yday': 3353, 'opinion': 856, 'operations': 1, 'care': 420, 'brick': 1001, 'dispositions': 1413, 'mill': 271, 'rd': 264, 'answer': 265, 'shoulder': 1961, 'investigation': 3233, 'abbv': 3432, 'et': 143, 'hold': 2199, 'unreal': 505, 'bill': 3725, 'steer': 2200, 'base': 742, 'beneficial': 3977, 'wireless': 1277, 'wide': 3978, 'signal': 3594, 'sacrifice': 3885, 'work': 20, 'surgical': 1700, 'aggressive': 1414, 'see': 3111, 'pure': 2099, 'benefit': 2958, 'same': 1410, 'much': 746, 'bo': 3300, 'shed': 2328, 'hmm': 2329, 'access': 3979, 'century': 1415, 'child': 1416, 'video': 3879, 'effect': 747, 'garmin': 2455, 'rig': 619, 'cake': 1674, 'sht': 1137, 'autonomous': 506, 'block': 1837, 'blackberry': 2674, 'graph': 3024, 'grant': 2087, 'easiest': 2621, 'ibm': 3164, 'year': 2558, 'gotta': 1675, 'pray': 621, 'timber': 2088, 'underestimate': 1312, 'gg': 3165, 'drag': 2089, 'sweet': 749, 'nyse': 3980, 'ip': 1546, 'disagree': 145, 'giddy': 546, 'radar': 1417, 'surprise': 2, 'pos': 3333, 'system': 1003, 'transport': 4050, 'reflect': 1552, 'borrow': 3461, 'pressure': 750, 'reset': 2142, 'die': 3597, 'compare': 4033, 'project': 1278, 'chase': 1962, 'hbo': 1838, 'opportunity': 904, 'devices': 2435, 'scandal': 2085, 'home': 2908, 'leverage': 3855, 'retailers': 384, 'procter': 2676, 'eh': 1279, 'scoop': 385, 'electronic': 2083, 'toast': 857, 'perfect': 1032, 'wow': 3485, 'alphabet': 858, 'obligation': 3301, 'tic': 2677, 'road': 3687, 'tmw': 3982, 'driver': 241, 'earn': 1023, 'storm': 3, 'performer': 2436, 'corporation': 3166, 'valley': 1964, 'shine': 2560, 'bode': 4, 'when': 147, 'finger': 3089, 'charge': 622, 'wti': 1295, 'earlier': 1280, 'teach': 1839, 'mix': 3014, 'first': 1677, 'coast': 1965, 'ole': 751, 'secure': 3867, 'argue': 2901, 'caterpillar': 3856, 'tran': 860, 'supermarket': 3555, 'remark': 2437, 'sustainable': 1419, 'bigger': 2788, 'biotech': 1420, 'aid': 1572, 'chairman': 386, 'whoa': 3245, 'bankrupt': 1334, 'insult': 2678, 'encourage': 3306, 'affect': 3266, 'cl': 2116, 'predict': 2582, 'marc': 508, 'mo': 2501, 'spot': 3062, 'imho': 625, 'restrict': 2595, 'unless': 3425, 'oi': 48, 'general': 844, 'bar': 3026, 'sorry': 5, 'detail': 3057, 'eat': 2561, 'owners': 3857, 'capital': 2117, 'far': 2438, 'crown': 1679, 'disgust': 387, 'mar': 752, 'citigroup': 2090, 'blame': 2562, 'ever': 6, 'makers': 1841, 'impressive': 3015, 'switch': 503, 'kneel': 754, 'sprint': 2564, 'tsla': 3527, 'carl': 148, 'prospect': 1004, 'definitely': 2091, 'result': 53, 'curl': 1694, 'pharmaceuticals': 3497, 'greater': 1005, 'baird': 3663, 'daytrading': 2826, 'institutional': 626, 'understand': 790, 'comparison': 3645, 'link': 3929, 'fcking': 2202, 'im': 2333, 'buy': 3969, 'director': 1006, 'technology': 1553, 'clean': 627, 'moron': 864, 'rather': 1002, 'once': 2566, 'constantly': 541, 'area': 149, 'dumb': 3816, 'bust': 1422, 'everything': 1139, 'main': 2749, 'insights': 1535, 'energy': 3600, 'somebody': 2567, 'upbeat': 1969, 'allergan': 755, 'textbook': 3465, 'edit': 1554, 'final': 3825, 'china': 2790, 'lvl': 2912, 'reasonable': 2904, 'flannery': 1140, 'deutsche': 2441, 'elliott': 3307, 'medtronic': 1882, 'fairly': 388, 'liquidity': 7, 'jeffrey': 3571, 'wanna': 756, 'away': 372, 'special': 1284, 'suppose': 3491, 'false': 389, 'largecap': 796, 'williams': 3859, 'shorters': 1008, 'swear': 390, 'fair': 1808, 'kevin': 2538, 'parabolic': 865, 'leap': 1346, 'announcement': 391, 'burn': 2204, 'everyday': 3466, 'shut': 1332, 'conservative': 3760, 'we': 2205, 'wynn': 628, 'euphoria': 510, 'three': 1680, 'meltdown': 554, 'aws': 2791, 'antiviral': 629, 'armour': 1009, 'ig': 1842, 'stupid': 3641, 'yearly': 8, 'smarter': 3171, 'automotive': 2443, 'paint': 2568, 'steep': 2993, 'cnn': 3730, 'visit': 3860, 'careful': 150, 'papa': 2334, 'venmo': 1916, 'shorties': 3508, 'dumbass': 3081, 'memory': 1423, 'currency': 268, 'healthcare': 1843, 'tues': 392, 'hasbro': 3987, 'transfer': 2682, 'course': 1424, 'stephen': 2444, 'downside': 3027, 'tgt': 1285, 'country': 642, 'retire': 2792, 'purchase': 1970, 'april': 3861, 'preview': 630, 'term': 1247, 'tho': 2913, 'oversold': 151, 'turing': 1971, 'receive': 867, 'credit': 1484, 'weaker': 3467, 'cannot': 4070, 'grow': 1010, 'ph': 1341, 'chip': 3868, 'warm': 1342, 'inline': 3862, 'nightmare': 2206, 'swn': 2335, 'integrate': 2570, 'pm': 2336, 'annualized': 3664, 'bash': 1430, 'kavanaugh': 1344, 'italy': 1973, 'obviously': 9, 'newbies': 757, 'taste': 3349, 'night': 2207, 'cyber': 4043, 'consolidate': 1068, 'me': 10, 'sigh': 3983, 'pierce': 2445, 'roe': 1844, 'roa': 631, 'bait': 2093, 'cuz': 3029, 'cfo': 269, 'later': 1349, 'heart': 2208, 'yell': 152, 'feds': 868, 'epyc': 906, 'dirt': 1011, 'loser': 869, 'anyways': 804, 'health': 2630, 'dick': 3602, 'thur': 2144, 'macro': 12, 'cohen': 3985, 'todays': 2797, 'unlike': 2632, 'crash': 3863, 'advantage': 3986, 'airlines': 2850, 'shortage': 2337, 'consensus': 3852, 'catalyst': 2739, 'fcf': 807, 'shadow': 2094, 'yourselves': 153, 'seek': 395, 'statement': 2338, 'hover': 1142, 'familiar': 3226, 'all': 3368, 'sweat': 1558, 'artificial': 2209, 'coincidence': 1012, 'learn': 3665, 'users': 2095, 'latest': 3561, 'bmo': 859, 'trick': 2683, 'movies': 3603, 'love': 1144, 'woot': 2684, 'couldnt': 3103, 'immediately': 2143, 'formation': 2210, 'pocket': 2860, 'girl': 1902, 'aka': 2446, 'headwinds': 2447, 'realize': 3988, 'valuengine': 1683, 'consecutive': 870, 'average': 1013, 'bloomberg': 2845, 'crowdthnk': 3803, 'fuck': 3311, 'tight': 3468, 'fangs': 543, 'rug': 13, 'total': 3736, 'body': 3193, 'acct': 3989, 'fu': 154, 'whoever': 623, 'south': 3173, 'btd': 633, 'nke': 3299, 'yesterday': 3505, 'gainers': 1288, 'factor': 3737, 'eli': 1975, 'those': 2404, 'auction': 3648, 'tyson': 396, 'bleed': 1847, 'chesapeake': 3691, 'forecast': 3030, 'roku': 14, 'multi': 871, 'executive': 872, 'fantastic': 3963, 'symantec': 511, 'medical': 759, 'current': 1848, 'okay': 1364, 'growth': 3313, 'type': 3487, 'henry': 1145, 'ops': 3314, 'mgm': 3738, 'ban': 3957, 'gb': 3315, 'monetize': 1673, 'feb': 16, 'buyback': 2096, 'ppl': 272, 'summit': 1685, 'board': 3316, 'complete': 1367, 'picture': 1686, 'bb': 2824, 'cmon': 4071, 'sheesh': 512, 'cheaply': 17, 'technologies': 2799, 'philip': 1426, 'value': 2211, 'reliable': 2212, 'defensive': 2001, 'tweet': 1427, 'longest': 504, 'tarrifs': 3032, 'environment': 3605, 'cheaper': 2573, 'waste': 2800, 'atvi': 2574, 'cute': 875, 'design': 2097, 'successful': 3990, 'foolish': 1665, 'ema': 2413, 'brainer': 2685, 'exp': 2339, 'concern': 2915, 'even': 2098, 'baker': 1976, 'rise': 2213, 'longer': 1502, 'survive': 3438, 'social': 2340, 'fomo': 3459, 'september': 155, 'infrastructure': 2921, 'popular': 3317, 'rush': 3318, 'kill': 3596, 'tide': 635, 'vegas': 1177, 'ray': 2575, 'comp': 3469, 'transition': 2341, 'study': 513, 'aposs': 1015, 'snapshot': 514, 'yrs': 761, 'call': 34, 'however': 1849, 'qqq': 2214, 'aal': 3698, 'counsel': 3358, 'reduce': 1428, 'bto': 1329, 'impose': 3356, 'machine': 2916, 'couldn': 3033, 'player': 3470, 'ge': 144, 'ah': 3848, 'hd': 1147, 'ice': 3035, 'rome': 1070, 'costco': 2215, 'insiders': 2671, 'amaze': 2576, 'investor': 397, 'upward': 515, 'display': 2348, 'award': 3992, 'ross': 1488, 'measure': 2577, 'discord': 2578, 'whatever': 588, 'steam': 636, 'stronger': 3891, 'hang': 21, 'pumpers': 995, 'eventually': 3312, 'swap': 3319, 'decide': 516, 'coffee': 109, 'rotate': 2100, 'combine': 1429, 'turd': 1687, 'benioff': 609, 'nafta': 1563, 'highlight': 3575, 'continuation': 3177, 'arpu': 762, 'scanner': 3042, 'recently': 2802, 'etfs': 22, 'target': 1564, 'boom': 1850, 'unveil': 1386, 'freeze': 2174, 'straddle': 3590, 'twice': 1017, 'gmv': 23, 'qcom': 3321, 'hari': 2871, 'delusional': 24, 'superior': 637, 'during': 25, 'combo': 3178, 'cantor': 2450, 'normal': 1018, 'barron': 876, 'chapter': 1601, 'hardly': 347, 'google': 3037, 'dangerous': 2180, 'xr': 2182, 'transactions': 219, 'import': 1935, 'wed': 3324, 'magic': 2423, 'anticipation': 2804, 'ponzi': 3742, 'institutions': 26, 'ship': 1148, 'help': 1149, 'yes': 2216, 'crazy': 3711, 'math': 3472, 'obama': 4065, 'least': 2101, 'smash': 2186, 'reportedly': 27, 'wait': 3325, 'days': 158, 'jim': 2102, 'advance': 3655, 'murder': 120, 'might': 1650, 'lt': 1395, 'promise': 3493, 'chat': 518, 'attach': 763, 'lag': 3410, 'lay': 3822, 'resolve': 2217, 'medium': 2451, 'handle': 891, 'datacenter': 274, 'grind': 2663, 'clown': 2579, 'chicken': 28, 'hmmmm': 2452, 'peak': 2817, 'stephens': 275, 'delete': 764, 'pity': 2918, 'sooo': 1568, 'indeed': 2887, 'fee': 1911, 'highputoi': 29, 'biogen': 398, 'credibility': 3422, 'bias': 3244, 'star': 2104, 'easy': 765, 'afternoon': 1150, 'busy': 1523, 'hmmmmm': 3796, 'buybacks': 3180, 'supply': 399, 'sachs': 1569, 'maturity': 3339, 'smile': 3287, 'maga': 159, 'brace': 3145, 'climb': 1020, 'lmt': 1222, 'afraid': 3775, 'billion': 639, 'pls': 519, 'noteworthy': 1151, 'evolve': 3348, 'strange': 2105, 'ma': 1570, 'quot': 2580, 'soros': 160, 'regain': 3181, 'walgreens': 2343, 'surge': 2794, 'slump': 3657, 'set': 2453, 'impact': 879, 'mother': 1689, 'hod': 2344, 'lowe': 2229, 'yesterdays': 3967, 'components': 2218, 'raise': 2806, 'pop': 2924, 'besides': 2609, 'fire': 3611, 'accordingly': 1152, 'ok': 2807, 'areas': 3746, 'data': 667, 'maximum': 2897, 'business': 161, 'promote': 1292, 'wdc': 1512, 'raymond': 2581, 'avg': 3328, 'underweight': 1432, 'burst': 240, 'watch': 3040, 'es': 3474, 'streets': 1571, 'solar': 3613, 'knee': 880, 'kiss': 30, 'sympathy': 3161, 'among': 3159, 'fck': 86, 'declare': 3427, 'shoe': 1959, 'tasty': 1022, 'karma': 1788, 'lolol': 1854, 'twit': 3614, 'painful': 1293, 'vice': 1434, 'fook': 2219, 'tempt': 1203, 'fk': 2107, 'perspective': 2689, 'attention': 2108, 'sad': 2109, 'shake': 3615, 'retail': 1294, 'carnage': 3204, 'cramer': 2753, 'sharp': 400, 'yay': 1722, 'screener': 2110, 'shoot': 624, 'path': 2939, 'hunt': 1855, 'dump': 1967, 'yield': 31, 'settlement': 3182, 'commercial': 3475, 'extremely': 3750, 'lie': 1690, 'optionstrading': 1154, 'holder': 3476, 'roof': 3331, 'evaluate': 3762, 'healthy': 2681, 'gap': 3258, 'gary': 3168, 'my': 2221, 'bearish': 2222, 'plus': 401, 'except': 162, 'side': 768, 'rain': 522, 'amat': 3751, 'elevator': 3694, 'breakout': 3187, 'shock': 1436, 'tmrw': 766, 'al': 4042, 'bot': 1296, 'analyzer': 3044, 'intact': 3183, 'sake': 3284, 'decades': 1024, 'odd': 3009, 'zuckerberg': 1437, 'respond': 3477, 'toy': 1155, 'fault': 3567, 'soooo': 3616, 'wage': 2940, 'rev': 2223, 'flat': 1574, 'penny': 1575, 'tough': 1297, 'server': 2809, 'awesome': 3184, 'intc': 873, 'immediate': 644, 'actual': 791, 'election': 2448, 'auto': 2347, 'rosenblatt': 32, 'uk': 2458, 'economy': 2449, 'goal': 3185, 'nflx': 3186, 'certainly': 402, 'program': 1156, 'approach': 2224, 'brother': 2877, 'sight': 2907, 'quarterly': 1299, 'pile': 403, 'pct': 2810, 'merge': 3617, 'stack': 210, 'whos': 3471, 'pink': 2349, 'sectors': 1157, 'despite': 638, 'dimon': 523, 'review': 3915, 'bofa': 1194, 'rely': 524, 'art': 3043, 'btfd': 11, 'make': 3925, 'insane': 767, 'toe': 2811, 'compete': 1439, 'fidelity': 3872, 'pivotal': 3549, 'street': 2692, 'cruise': 3753, 'classic': 1300, 'level': 2359, 'wont': 2693, 'orange': 1025, 'plunge': 632, 'enjoy': 1026, 'ta': 404, 'that': 1691, 'increase': 1979, 'thread': 3553, 'exit': 643, 'anybody': 2694, 'profitable': 1158, 'parent': 1856, 'week': 525, 'pool': 276, 'foods': 881, 'avgo': 163, 'world': 646, 'cheapest': 3478, 'calm': 882, 'nordstrom': 1440, 'haul': 3334, 'ding': 3740, 'doom': 3618, 'safe': 405, 'man': 526, 'segment': 3335, 'things': 1301, 'carter': 3755, 'intelligent': 3900, 'fell': 2583, 'worst': 769, 'massive': 883, 'dividend': 1159, 'sideline': 3146, 'history': 1160, 'judge': 1178, 'umc': 277, 'loop': 1701, 'which': 2225, 'verge': 2920, 'hill': 1441, 'via': 2226, 'asap': 3997, 'asp': 2584, 'thumb': 3483, 'ck': 2696, 'stop': 1693, 'dish': 3045, 'securities': 1028, 'sweepers': 884, 'firm': 770, 'lower': 1245, 'strangle': 771, 'etc': 772, 'bingo': 3728, 'mac': 3429, 'cheer': 1857, 'model': 2994, 'ar': 3046, 'dollars': 1161, 'progress': 773, 'disposition': 33, 'match': 2350, 'bn': 3758, 'wkly': 1121, 'manipulators': 647, 'candlestick': 1051, 'sup': 278, 'lmfao': 1029, 'yourself': 1827, 'brilliant': 1633, 'sheet': 527, 'payment': 419, 'yawn': 3873, 'af': 1371, 'small': 3999, 'partial': 2697, 'didnt': 3188, 'ticker': 3875, 'ideal': 2228, 'theory': 1302, 'bunch': 3189, 'cry': 1712, 'dont': 1030, 'fit': 1458, 'jcp': 2815, 'good': 3240, 'gdp': 2874, 'richard': 1981, 'debate': 1982, 'girls': 324, 'overextend': 774, 'videos': 3190, 'state': 1576, 'jensen': 175, 'ton': 2816, 'calculations': 2814, 'rest': 1443, 'truth': 3012, 'thousand': 3622, 'thurs': 885, 'license': 2700, 'innovative': 886, 'strike': 1696, 'peek': 1858, 'debt': 3022, 'rsi': 3619, 'remind': 1859, 'haven': 2903, 'family': 1716, 'dis': 4006, 'writers': 888, 'stellar': 3805, 'use': 63, 'decision': 1372, 'whine': 2472, 'response': 146, 'bernstein': 889, 'sq': 1983, 'drug': 407, 'provide': 2922, 'true': 775, 'dare': 1551, 'creep': 2351, 'industrials': 2230, 'sr': 3729, 'let': 185, 'follow': 2701, 'occur': 3841, 'quality': 1676, 'fitzgerald': 1444, 'fastest': 2460, 'snap': 1034, 'horrible': 3047, 'restaurant': 3623, 'hence': 1698, 'nike': 1445, 'coca': 1446, 'aboard': 188, 'lotto': 2586, 'he': 3624, 'logical': 3877, 'honest': 1447, 'tariff': 279, 'test': 1699, 'positive': 2231, 'odds': 4000, 'barely': 2355, 'ubs': 1303, 'prove': 776, 'nr': 3878, 'wk': 1845, 'underperform': 4001, 'less': 4045, 'per': 3644, 'jan': 649, 'song': 890, 'breach': 2232, 'woah': 3626, 'stk': 2356, 'plz': 4002, 'explosive': 3880, 'mu': 3302, 'gd': 2233, 'intraday': 3207, 'mode': 2948, 'everytime': 2723, 'lazy': 1035, 'place': 2358, 'recovery': 2588, 'pastor': 2795, 'churn': 2461, 'throughout': 1984, 'benchmark': 409, 'moonves': 777, 'triangle': 1448, 'strength': 778, 'about': 2589, 'choose': 35, 'edge': 280, 'push': 3783, 'suffer': 3779, 'genuity': 3050, 'endless': 4003, 'comment': 410, 'mostly': 2703, 'sum': 2045, 'approx': 650, 'oops': 3344, 'ondemand': 2462, 'solve': 1909, 'technically': 3598, 'need': 3346, 'pack': 3194, 'refuse': 4073, 'off': 2805, 'historic': 2590, 'draw': 1036, 'boy': 2454, 'essential': 2463, 'hodl': 1853, 'profit': 36, 'ath': 2236, 'accuse': 37, 'traffic': 3538, 'amgen': 411, 'stats': 3744, 'seasonal': 2237, 'war': 1577, 'blockbuster': 1860, 'outcome': 3195, 'easier': 1481, 'peep': 2592, 'uptrend': 1985, 'ease': 2956, 'versus': 1027, 'diversify': 3053, 'choppy': 412, 'mgmt': 1037, 'commentary': 345, 'instrument': 1163, 'quickrunner': 779, 'yescarta': 3763, 'sign': 2571, 'jmo': 2238, 'decrease': 922, 'league': 2818, 'here': 780, 'ev': 1450, 'st': 781, 'touch': 892, 'jedi': 2969, 'capitulation': 2585, 'daily': 789, 'noon': 659, 'lol': 3756, 'slaughter': 677, 'bring': 3011, 'coal': 282, 'wowza': 1648, 'magnet': 1305, 'station': 531, 'zoom': 283, 'five': 3604, 'mirror': 1360, 'thoughts': 1164, 'expectation': 3462, 'argument': 2279, 'coverage': 707, 'refresh': 651, 'challenge': 3341, 'but': 1861, 'bullshit': 4005, 'few': 2360, 'schwab': 652, 'content': 782, 'hike': 893, 'insta': 4037, 'dept': 1451, 'they': 532, 'kao': 164, 'reduction': 413, 'biggest': 2704, 'round': 3484, 'tilray': 783, 'repurchase': 2361, 'excellent': 2819, 'normally': 2239, 'activist': 2362, 'wholesale': 3199, 'sweeper': 2464, 'fbi': 40, 'el': 165, 'sept': 1307, 'compute': 1863, 'huh': 3534, 'spell': 1165, 'breakdown': 3629, 'wake': 414, 'institution': 2465, 'self': 2705, 'absurd': 2363, 'cow': 1759, 'fake': 2114, 'knife': 2594, 'resistance': 415, 'very': 3630, 'idiots': 2115, 'print': 685, 'piss': 416, 'thousands': 3965, 'shout': 1452, 'digits': 3486, 'battery': 2466, 'him': 1167, 'whenever': 3599, 'ps': 581, 'balance': 1705, 'neither': 3197, 'cite': 3766, 'animal': 533, 'thx': 1038, 'historical': 417, 'behavior': 2751, 'brain': 1039, 'pennies': 3249, 'aapl': 3004, 'penney': 406, 'tear': 3167, 'gee': 285, 'stream': 2467, 'bore': 3255, 'square': 3631, 'online': 1308, 'impossible': 3362, 'milestone': 1706, 'cycle': 3489, 'denial': 4019, 'luv': 167, 'ideas': 41, 'relief': 2984, 'sayin': 2364, 'exhaust': 168, 'chk': 1754, 'audio': 2821, 'recognize': 2980, 'constellation': 1865, 'she': 1281, 'robinhood': 42, 'azure': 2691, 'alert': 3521, 'time': 43, 'bro': 654, 'effort': 3767, 'slam': 2332, 'incorporate': 2468, 'hahahaha': 2813, 'jack': 2288, 'exposure': 1720, 'crossover': 1309, 'faster': 2240, 'show': 1578, 'champion': 2926, 'plan': 460, 'flaw': 1310, 'improve': 2927, 'didn': 2706, 'minute': 217, 'peer': 655, 'stress': 418, 'boat': 1579, 'citron': 2985, 'wallstreet': 2040, 'fang': 2241, 'moody': 656, 'wealth': 1454, 'bother': 2242, 'net': 2754, 'nasdaq': 2366, 'pre': 1041, 'prediction': 2417, 'relatively': 220, 'scream': 1708, 'connect': 1232, 'user': 44, 'bake': 2987, 'whack': 534, 'bullish': 1042, 'host': 1455, 'db': 2827, 'mega': 1043, 'hint': 2244, 'benchmarks': 3635, 'manager': 668, 'john': 2367, 'owner': 3264, 'foundation': 2043, 'bob': 702, 'amongst': 3536, 'einhorn': 287, 'gpu': 1709, 'exhibit': 1866, 'bull': 1311, 'size': 469, 'traders': 535, 'hahah': 45, 'rob': 2368, 'kaepernick': 3759, 'claim': 3054, 'delay': 2118, 'retest': 1710, 'kors': 288, 'knock': 1580, 'iot': 2628, 'bury': 4007, 'texas': 896, 'retreat': 4008, 'quit': 3336, 'leader': 2295, 'retirement': 3813, 'macbook': 1456, 'exceed': 2369, 'wouldn': 2370, 'gaap': 2762, 'late': 3055, 'worth': 951, 'aggregate': 784, 'prolly': 1755, 'sector': 1867, 'digest': 2306, 'crowd': 2905, 'exotic': 1868, 'ramp': 1711, 'patent': 1989, 'phase': 2596, 'lampert': 2822, 'rough': 956, 'transcript': 1313, 'low': 897, 'washington': 1785, 'either': 536, 'processor': 3695, 'yr': 4032, 'ohhh': 1869, 'ugh': 4064, 'bite': 3637, 'accumulation': 537, 'car': 2245, 'hurricane': 1870, 'expiry': 1314, 'lake': 49, 'optionpros': 2469, 'ol': 2597, 'uptick': 529, 'brief': 2246, 'buffet': 3883, 'blind': 3884, 'mm': 1044, 'warrant': 3056, 'th': 4009, 'davidson': 1170, 'ti': 1505, 'losers': 3492, 'crew': 785, 'bigly': 1459, 'than': 290, 'undervalue': 291, 'confuse': 2470, 'initial': 1527, 'jpm': 3058, 'kudlow': 1460, 'appeal': 4010, 'bruce': 3494, 'historically': 1836, 'candidate': 4075, 'execute': 1315, 'strategic': 2247, 'incredibly': 2934, 'embarrass': 487, 'nail': 1461, 'supp': 422, 'hire': 4011, 'turnaround': 2119, 'wave': 575, 'idiotic': 1713, 'semiconductor': 174, 'important': 786, 'common': 657, 'winners': 1810, 'pc': 3297, 'already': 1234, 'explain': 1778, 'pic': 3223, 'fully': 2698, 'assets': 853, 'break': 1990, 'welp': 2699, 'jerk': 658, 'shakeout': 1968, 'weren': 1582, 'payday': 3639, 'mfi': 3771, 'stfu': 1462, 'macd': 846, 'cleartrend': 423, 'specific': 1991, 'master': 730, 'options': 493, 'accumulate': 3547, 'metric': 3198, 'easily': 2070, 'aks': 1045, 'mcdonald': 1171, 'further': 787, 'architecture': 3273, 'status': 292, 'commission': 3495, 'inverse': 1031, 'utter': 176, 'bell': 2201, 'totalitarian': 1326, 'invert': 3013, 'tend': 2789, 'neutral': 3640, 'retracement': 1992, 'boo': 50, 'prospectuses': 255, 'morning': 2563, 'curse': 735, 'bed': 1872, 'smaller': 3696, 'reference': 1993, 'wonderful': 3525, 'person': 2473, 'expose': 303, 'population': 900, 'stupidity': 3191, 'treatments': 2249, 'unfortunately': 2909, 'tencent': 901, 'setup': 3871, 'pilot': 424, 'october': 3060, 'mobil': 178, 'smith': 788, 'gun': 1994, 'bidaskclub': 1995, 'tonight': 1319, 'mountain': 1320, 'what': 3019, 'industry': 3984, 'prev': 304, 'yikes': 3951, 'robinson': 1996, 'tumble': 2474, 'george': 1174, 'staanalystalert': 1046, 'distribution': 2852, 'gamblers': 2408, 'profitability': 1465, 'semi': 425, 'component': 2598, 'jeez': 3350, 'keycorp': 3656, 'piotroski': 2439, 'kind': 2373, 'payments': 2250, 'lilly': 3351, 'smart': 3352, 'unload': 903, 'jail': 660, 'payout': 3509, 'cost': 1467, 'collapse': 1692, 'controller': 2825, 'retard': 3642, 'court': 878, 'radio': 52, 'strategy': 1998, 'su': 179, 'seriously': 3337, 'mark': 1321, 'account': 3200, 'recap': 1714, 'advertisers': 1258, 'abandon': 1585, 'attract': 2910, 'lil': 866, 'bid': 1047, 'stocktwits': 3354, 'benzinga': 3061, 'row': 3028, 'buddy': 180, 'pharma': 293, 'reload': 3772, 'tomorrows': 4016, 'scott': 2711, 'percent': 1715, 'opex': 3454, 'mmm': 2121, 'otc': 3876, 'sense': 2477, 'greedy': 181, 'conversion': 1175, 'wing': 724, 'property': 1584, 'greatest': 3773, 'melt': 662, 'dry': 2122, 'member': 267, 'his': 466, 'annoy': 3355, 'ave': 365, 'tr': 426, 'water': 2123, 'gpus': 3889, 'bond': 905, 'miracle': 4038, 'backtest': 738, 'jump': 2712, 'icahn': 247, 'open': 542, 'dang': 3357, 'speak': 2937, 'gainz': 2478, 'door': 3998, 'article': 427, 'suggest': 428, 'due': 2624, 'movements': 1999, 'mention': 2600, 'csoi': 2127, 'algos': 4017, 'actually': 2601, 'past': 1176, 'vetr': 2605, 'suppliers': 294, 'commerce': 2854, 'rich': 295, 'stick': 1972, 'alexa': 2479, 'gamestop': 3839, 'yeah': 1717, 'monthly': 2906, 'dream': 663, 'nights': 2000, 'recall': 1323, 'monger': 2124, 'key': 2125, 'fortune': 15, 'sir': 999, 'national': 3890, 'microsoft': 2187, 'tax': 2374, 'cross': 3858, 'peace': 3282, 'dominant': 429, 'basic': 1873, 'giants': 3147, 'slap': 296, 'buyers': 3201, 'strong': 2680, 'memes': 3202, 'possibility': 1289, 'amid': 183, 'friday': 572, 'decent': 1586, 'commodities': 2829, 'powerful': 3203, 'scam': 2828, 'pattern': 3500, 'top': 1567, 'recommend': 92, 'mean': 2713, 'overall': 1033, 'ceiling': 2781, 'wag': 1875, 'reward': 2103, 'att': 664, 'expansion': 3064, 'amend': 56, 'halt': 2938, 'nothing': 2002, 'goog': 3265, 'alright': 1876, 'walmart': 2352, 'pickup': 2106, 'futures': 3501, 'require': 3892, 'soxx': 3072, 'financial': 1877, 'reminder': 4022, 'assume': 2714, 'yet': 3065, 'workers': 1878, 'quite': 2251, 'dividends': 1718, 'uh': 1049, 'vinci': 1283, 'gordon': 1573, 'believe': 1745, 'indicators': 2346, 'wash': 3654, 'hero': 2003, 'rumor': 1324, 'stock': 521, 'decliners': 2830, 'bail': 1719, 'wasnt': 2376, 'engage': 2602, 'shouldn': 3067, 'smoke': 2252, 'sheep': 1050, 'wl': 665, 'significantly': 3893, 'royal': 1111, 'ridiculous': 544, 'era': 2480, 'interest': 2253, 'usa': 907, 'repeat': 2716, 'change': 2812, 'stochastic': 3309, 'hilo': 2004, 'aft': 186, 'xilinx': 2717, 'blast': 431, 'personally': 432, 'inflate': 2941, 'finish': 3205, 'aug': 3359, 'women': 2481, 'anderson': 281, 'month': 298, 'faang': 2005, 'reserve': 2482, 'compensate': 433, 'european': 1325, 'blackrock': 2254, 'dr': 3522, 'impatient': 1879, 'watchlist': 3646, 'vacation': 3068, 'subject': 2007, 'lock': 2357, 'perfectly': 299, 'storage': 1179, 'take': 3647, 'shs': 3230, 'again': 300, 'scheme': 530, 'hiv': 3778, 'frank': 2112, 'convince': 2831, 'shirt': 2203, 'stall': 1880, 'cut': 3894, 'date': 1007, 'charles': 3360, 'permabulls': 2377, 'eod': 3895, 'food': 2942, 'gods': 3361, 'log': 3206, 'tom': 301, 'million': 2483, 'jaffray': 3503, 'story': 794, 'rotation': 2832, 'knowledge': 908, 'email': 286, 'trouble': 545, 'frustrate': 3345, 'choice': 4024, 'discuss': 850, 'laptop': 547, 'chain': 2484, 'mislead': 55, 'brazil': 3504, 'aristocrat': 2008, 'traction': 1881, 'industries': 2161, 'vz': 4046, 'meaningless': 3502, 'forever': 2485, 'ad': 548, 'slightly': 549, 'shareholder': 2486, 'pacific': 302, 'separate': 1643, 'land': 3897, 'tick': 600, 'loud': 3294, 'crawl': 2372, 'gann': 3649, 'ebay': 1180, 'roadmap': 2603, 'smartphone': 3069, 'ceos': 1589, 'vr': 408, 'insider': 3898, 'trigger': 2718, 'something': 3070, 'practice': 2487, 'elections': 3961, 'brian': 1988, 'chatter': 2923, 'production': 3208, 'itself': 3434, 'sooner': 4021, 'elect': 2604, 'altria': 1468, 'journal': 3071, 'exist': 1721, 'witch': 3888, 'iron': 2126, 'illumina': 2943, 'simple': 1328, 'fin': 1704, 'notch': 3506, 'source': 2442, 'executives': 550, 'town': 1883, 'straight': 1181, 'reverse': 2833, 'mcd': 2353, 'volatility': 1723, 'un': 297, 'billionaire': 57, 'free': 1628, 'gamble': 1587, 'predictable': 3387, 'skip': 3066, 'relate': 1884, 'mercy': 3093, 'tensions': 1182, 'inflow': 792, 'buyout': 2637, 'weaken': 2756, 'imo': 2587, 'blackout': 2719, 'hedge': 1724, 'reuters': 1885, 'circle': 1725, 'desperate': 3577, 'fly': 2255, 'germany': 3451, 'media': 3209, 'park': 3364, 'export': 3651, 'temporary': 2834, 'today': 2835, 'kroger': 2378, 'ag': 2256, 'file': 2488, 'last': 666, 'tsmc': 1590, 'sick': 2720, 'notice': 58, 'device': 1183, 'crack': 1100, 'lmao': 2023, 'solution': 3962, 'correlation': 2944, 'ignore': 4023, 'app': 1054, 'clockwork': 1591, 'single': 528, 'excuse': 3780, 'rival': 1330, 'many': 2009, 'coil': 1469, 'haircut': 2010, 'wreck': 3073, 'boycott': 2489, 'danger': 1185, 'punish': 3789, 'ers': 2379, 'company': 2380, 'subscription': 2128, 'delivery': 1470, 'alpha': 2608, 'yuge': 59, 'juicy': 3077, 'approximately': 2011, 'capture': 3367, 'obvious': 3211, 'lisa': 1940, 'wtf': 60, 'nand': 799, 'hammer': 79, 'republicans': 1726, 'tomm': 1056, 'heavily': 2721, 'dam': 3716, 'registration': 3137, 'counter': 189, 'cbd': 3914, 'poise': 1057, 'else': 61, 'sellers': 2257, 'nomura': 2612, 'oppenheimer': 2722, 'sexy': 3169, 'culp': 4059, 'dummy': 305, 'lg': 4076, 'insight': 3652, 'processors': 1595, 'engine': 2490, 'america': 434, 'previously': 2227, 'probably': 1187, 'beverage': 2491, 'with': 2139, 'an': 4025, 'financially': 2440, 'blowout': 3557, 'steve': 1058, 'victory': 3899, 'football': 3774, 'grand': 3378, 'count': 105, 'research': 911, 'info': 1286, 'blog': 2259, 'closer': 3048, 'statements': 1997, 'aint': 2260, 'eric': 2012, 'beach': 2836, 'corn': 3912, 'idea': 1887, 'vehicles': 435, 'wall': 3074, 'idk': 1331, 'kid': 1592, 'parker': 2381, 'stretch': 1254, 'unusual': 3088, 'resist': 909, 'red': 3049, 'obligations': 2129, 'fib': 552, 'lately': 3369, 'fuk': 669, 'old': 74, 'yep': 306, 'smack': 307, 'def': 4061, 'air': 3076, 'simply': 1727, 'trend': 1333, 'direction': 2837, 'vix': 335, 'succeed': 3390, 'departure': 2382, 'brown': 2647, 'irrational': 2044, 'cnbc': 3524, 'seat': 2606, 'wrap': 670, 'fq': 4027, 'cannabis': 3078, 'shld': 4013, 'sear': 2261, 'ii': 2383, 'beta': 77, 'mkm': 62, 'rn': 1085, 'smell': 1335, 'tiny': 797, 'exchange': 1472, 'mistake': 310, 'mass': 2966, 'flop': 2607, 'exxon': 1055, 'bastards': 2947, 'tape': 2492, 'ios': 1604, 'tool': 1888, 'feet': 3214, 'march': 2176, 'maintain': 436, 'tip': 1336, 'bby': 311, 'fade': 2493, 'cyclical': 192, 'doubt': 3215, 'forward': 80, 'card': 64, 'hilarious': 3903, 'flag': 2263, 'trade': 2967, 'news': 612, 'walt': 2013, 'vs': 2264, 'tp': 3752, 'lawsuits': 3332, 'honestly': 559, 'excite': 437, 'wedbush': 3452, 'sport': 3535, 'coo': 1729, 'pull': 1473, 'comps': 1730, 'asshole': 2494, 'gm': 3782, 'cola': 793, 'fx': 3225, 'mon': 1731, 'rejection': 308, 'policy': 1732, 'economic': 2265, 'bug': 3601, 'protect': 3556, 'rtx': 551, 'christmas': 1733, 'stand': 2267, 'alarm': 3511, 'decline': 1734, 'compensation': 438, 'robots': 3904, 'bs': 912, 'clear': 2838, 'suisse': 2131, 'before': 555, 'upwards': 2746, 'comfortable': 1189, 'hardware': 1474, 'possible': 1908, 'maybe': 2014, 'engulf': 1735, 'purpose': 202, 'fy': 1190, 'ticket': 2082, 'till': 556, 'question': 913, 'college': 1736, 'step': 3370, 'reclaim': 3653, 'quietly': 312, 'midday': 2724, 'meanwhile': 671, 'king': 313, 'pharmaceutical': 2132, 'avoid': 1594, 'official': 2386, 'dynamics': 439, 'plane': 3781, 'trap': 3482, 'worthless': 3371, 'giant': 1337, 'assholes': 3513, 'ridiculously': 207, 'snapchat': 2950, 'bear': 440, 'estimize': 193, 'another': 1338, 'andrew': 2495, 'blair': 65, 'reaffirm': 1186, 'ann': 3372, 'thin': 1475, 'biz': 194, 'ackman': 1619, 'fml': 672, 'cbs': 1914, 'abt': 2387, 'incredible': 3810, 'myself': 2282, 'customer': 3731, 'worse': 3276, 'principal': 2610, 'summer': 2133, 'alliance': 1191, 'aths': 2016, 'michael': 195, 'nibble': 2545, 'depot': 1192, 'sand': 2017, 'relentless': 2157, 'feel': 602, 'especially': 4028, 'load': 1889, 'fish': 2134, 'beast': 557, 'finest': 196, 'everywhere': 68, 'til': 2611, 'role': 1920, 'comparable': 248, 'percentage': 2135, 'peakgain': 2725, 'nose': 2726, 'ring': 2946, 'obv': 1060, 'confidence': 2268, 'meat': 829, 'unlikely': 1375, 'view': 1340, 'patients': 2878, 'plant': 4030, 'dilute': 3784, 'should': 3906, 'relax': 1476, 'bancorp': 2727, 'stay': 558, 'narrow': 3518, 'similar': 3845, 'azz': 3701, 'someone': 832, 'any': 1565, 'prim': 3373, 'have': 3620, 'visa': 4031, 'heres': 1927, 'often': 3498, 'index': 3907, 'rocket': 2613, 'orthopaedics': 2388, 'vwap': 2614, 'lovely': 836, 'weakness': 3932, 'debit': 2840, 'second': 476, 'steady': 2952, 'cause': 2006, 'overweight': 1890, 'junk': 2269, 'edward': 2650, 'millions': 1738, 'elliottwave': 3733, 'aim': 3329, 'instantly': 2954, 'appear': 3084, 'june': 2331, 'staple': 69, 'sun': 1763, 'ceo': 560, 'sec': 2092, 'bagholders': 358, 'elevate': 2496, 'webcast': 1477, 'towards': 1891, 'right': 197, 'around': 3310, 'original': 2615, 'laughable': 2270, 'force': 1127, 'spin': 2616, 'pay': 2679, 'dram': 316, 'image': 2271, 'manage': 2138, 'ytd': 317, 'blow': 3052, 'site': 116, 'head': 1531, 'chunk': 3217, 'downgrade': 2656, 'play': 916, 'retrace': 3142, 'fridays': 4048, 'roast': 318, 'people': 1739, 'jp': 2389, 'earth': 2793, 'unexpected': 2955, 'mini': 1740, 'ago': 1741, 'disappointment': 375, 'several': 2272, 'headline': 2475, 'fresh': 3085, 'never': 2390, 'order': 3376, 'pentagon': 673, 'outstanding': 1681, 'wedge': 1742, 'ficc': 3340, 'pres': 1495, 'posters': 1479, 'lucky': 2728, 'creation': 3393, 'premarket': 3377, 'sustain': 2591, 'servers': 2497, 'goodbye': 319, 'mc': 561, 'ultimately': 2964, 'sky': 169, 'highs': 2707, 'europe': 198, 'hat': 1645, 'suddenly': 3911, 'macquarie': 1743, 'lookin': 2391, 'rate': 2842, 'loan': 2617, 'cautious': 2258, 'lira': 3787, 'setupalert': 1893, 'spook': 1259, 'intel': 2262, 'netflix': 473, 'christ': 3523, 'get': 443, 'shrug': 800, 'quick': 2298, 'dnr': 2729, 'float': 70, 'btc': 1655, 'propose': 1894, 'myspace': 3788, 'massively': 2843, 'hp': 1128, 'stagger': 917, 'expectations': 918, 'way': 1162, 'semiconductors': 1895, 'golden': 1886, 'generate': 1480, 'search': 2524, 'describe': 2392, 'split': 1195, 'shrink': 4026, 'pumper': 605, 'difficult': 1196, 'express': 3086, 'movement': 1538, 'jeff': 606, 'lifetime': 2047, 'supplier': 1497, 'anywhere': 3966, 'guarantee': 320, 'ugly': 3379, 'equal': 444, 'op': 199, 'non': 2273, 'glta': 3051, 'wolfe': 2618, 'breath': 2393, 'subscriptions': 3097, 'johnson': 3220, 'sma': 1944, 'altman': 1380, 'list': 2730, 'bye': 3661, 'best': 3380, 'gs': 2317, 'shall': 2195, 'resume': 200, 'july': 2627, 'fda': 3790, 'between': 1064, 'settle': 2660, 'metal': 3087, 'transaction': 2673, 'yall': 919, 'ill': 2731, 'text': 920, 'plc': 1874, 'rat': 322, 'from': 1065, 'sales': 1784, 'goooo': 2499, 'solid': 72, 'international': 3510, 'whats': 1903, 'urge': 1896, 'caution': 2732, 'pension': 2274, 'disclosure': 802, 'some': 1482, 'within': 4036, 'eu': 1197, 'hand': 1925, 'esports': 1066, 'industrial': 1672, 'whispermiss': 2619, 'near': 2620, 'employees': 2847, 'optimistic': 1598, 'drill': 201, 'fall': 1198, 'platform': 1746, 'computer': 3991, 'sue': 1483, 'theme': 3499, 'perhaps': 3662, 'disaster': 731, 'patiently': 921, 'minutes': 2394, 'back': 452, 'possibly': 2500, 'liberals': 1418, 'hole': 3222, 'competitive': 1067, 'electric': 1345, 'freakin': 3814, 'track': 3008, 'followers': 563, 'each': 564, 'manipulation': 3090, 'shift': 1966, 'experience': 2733, 'gern': 2622, 'achieve': 3075, 'dear': 861, 'youre': 4004, 'tune': 3515, 'chasers': 1383, 'who': 1599, 'sail': 2848, 'coaster': 3584, 'vertical': 862, 'channel': 3132, 'em': 1747, 'mos': 3382, 'ha': 1556, 'cold': 1485, 'factory': 3091, 'qtrs': 3674, 'monkey': 446, 'california': 3528, 'legit': 2849, 'rebuy': 1069, 'algo': 2396, 'perma': 2623, 'disclose': 1442, 'personal': 2959, 'definitive': 1199, 'territory': 3212, 'twtr': 1304, 'acquisition': 3650, 'mofo': 2625, 'salesforce': 1425, 'noobs': 4039, 'session': 3172, 'xmas': 3901, 'checkout': 2397, 'pb': 1061, 'its': 1048, 'short': 1682, 'pt': 966, 'ea': 2960, 'omg': 874, 'friends': 565, 'lawsuit': 2961, 'killer': 3530, 'august': 1897, 'explanation': 1820, 'prob': 1408, 'iphone': 456, 'retailer': 3627, 'bankruptcy': 1347, 'll': 3224, 'silly': 678, 'cult': 3140, 'steal': 1986, 'treatment': 1348, 'trillion': 2113, 'breakouts': 1600, 'competitor': 1898, 'bang': 1071, 'ca': 3383, 'eliminate': 553, 'usually': 3793, 'still': 3919, 'cpus': 315, 'members': 877, 'york': 1748, 'projections': 75, 'gild': 447, 'flip': 699, 'raytheon': 4040, 'tomorrow': 76, 'congratulations': 1688, 'subscriber': 3886, 'store': 3384, 'reason': 3092, 'indicator': 2569, 'candle': 1202, 'officer': 2626, 'await': 182, 'pullback': 3865, 'dan': 1899, 'expire': 3794, 'edison': 1153, 'disrespect': 3531, 'arm': 1350, 'minor': 1072, 'don': 3666, 'ebitda': 3920, 'decay': 2220, 'together': 1749, 'situation': 3532, 'momentum': 471, 'day': 3526, 'dc': 1750, 'alex': 758, 'glass': 1059, 'dems': 2796, 'book': 2629, 'senate': 2020, 'front': 3385, 'shape': 2741, 'tighten': 805, 'meme': 806, 'federal': 645, 'eddie': 1073, 'gut': 1751, 'everybody': 1752, 'threaten': 323, 'shorter': 3809, 'map': 2988, 'lift': 3757, 'ws': 4078, 'adx': 2925, 'attractive': 1211, 'cure': 2962, 'could': 2851, 'weight': 648, 'isnt': 3949, 'november': 1204, 'startup': 203, 'sk': 2498, 'say': 1753, 'sep': 325, 'professional': 3804, 'fkn': 3916, 'joseph': 2702, 'strongly': 3628, 'trail': 3834, 'start': 3942, 'eye': 2503, 'nonsense': 3917, 'former': 4062, 'cup': 326, 'tap': 3386, 'retaliation': 1239, 'peg': 204, 'suggestion': 2145, 'est': 1262, 'focus': 3533, 'nut': 566, 'isn': 748, 'season': 3094, 'hehe': 3795, 'refer': 1353, 'pr': 3676, 'joint': 2146, 'movers': 3227, 'agenda': 1205, 'gate': 3667, 'weird': 2292, 'streak': 1206, 'zuck': 327, 'zen': 3768, 'pepsico': 1602, 'pfizer': 3228, 'accelerate': 923, 'pps': 3394, 'huge': 3669, 'merrill': 924, 'premiums': 2504, 'drip': 256, 'happy': 2276, 'realistic': 2277, 'mighty': 834, 'products': 1900, 'commodity': 78, 'gloom': 3256, 'florence': 2735, 'reality': 3797, 'team': 2278, 'steak': 2398, 'overseas': 2853, 'heat': 1074, 'chief': 3670, 'local': 328, 'union': 191, 'example': 3550, 'drama': 2736, 'meet': 2709, 'bots': 1471, 'direct': 3095, 'partner': 4012, 'until': 2737, 'weeks': 1075, 'sunday': 1076, 'fiscal': 704, 'as': 620, 'line': 83, 'vote': 2399, 'directors': 1172, 'weather': 3777, 'tbh': 1168, 'deserve': 3798, 'action': 1603, 'legal': 3096, 'liquidate': 2506, 'csco': 1207, 'basement': 808, 'bud': 115, 'roll': 2148, 'glad': 2342, 'miss': 2936, 'epic': 4047, 'volume': 3765, 'estimate': 1354, 'would': 1355, 'jd': 3412, 'game': 2930, 'bloat': 1486, 'risky': 3905, 'berkshire': 3902, 'poop': 205, 'dig': 1077, 'insidertrading': 1208, 'race': 2855, 'stifel': 3921, 'antitrust': 329, 'facebook': 430, 'cliffs': 3308, 'btw': 567, 'macau': 2280, 'cars': 1487, 'dilution': 3196, 'build': 926, 'techs': 39, 'overdue': 809, 'fundamentally': 187, 'hq': 3395, 'iv': 3388, 'fate': 2856, 'positives': 2507, 'payable': 3389, 'theres': 1143, 'smh': 1356, 'panic': 2400, 'income': 2965, 'beekers': 3437, 'negativity': 3835, 'boeing': 1862, 'verizon': 2738, 'evidence': 1184, 'emotion': 2695, 'wheel': 3231, 'favor': 450, 'fintech': 1209, 'section': 81, 'multiple': 1945, 'sp': 910, 'itm': 3235, 'threadripper': 1188, 'sale': 2798, 'strongest': 679, 'cc': 1210, 'bum': 206, 'mf': 2715, 'primary': 1357, 'unit': 1352, 'issue': 1078, 'tail': 1703, 'farm': 2401, 'fart': 2968, 'thing': 82, 'robot': 3801, 'fam': 2266, 'grocery': 3391, 'calendar': 451, 'potential': 3918, 'recover': 1079, 'absolutely': 1756, 'cell': 3100, 'fundamental': 3101, 'adjust': 680, 'now': 927, 'haters': 330, 'dec': 568, 'egg': 2281, 'prefer': 3610, 'ng': 681, 'goods': 2857, 'upside': 3671, 'ouch': 1491, 'keybanc': 3668, 'fold': 928, 'movie': 3102, 'ways': 795, 'valuation': 3520, 'macy': 3948, 'can': 4020, 'gold': 1608, 'yahoo': 2970, 'excitement': 3537, 'gooooo': 2508, 'ripe': 3421, 'flow': 3392, 'conference': 2858, 'schedule': 1514, 'friend': 2859, 'maxpain': 331, 'most': 1040, 'blizzard': 3672, 'december': 1359, 'retaliate': 3734, 'script': 2635, 'gene': 1606, 'point': 3673, 'demand': 3023, 'harris': 3104, 'intelligence': 2019, 'tickers': 2780, 'intuitive': 810, 'cant': 2861, 'include': 2275, 'saudi': 453, 'felt': 3342, 'divvy': 929, 'explode': 3802, 'ly': 3968, 'awhile': 2509, 'safety': 3234, 'accurate': 3529, 'commence': 3675, 'jul': 2510, 'problems': 1757, 'holy': 4084, 'roi': 1605, 'combinations': 1593, 'suck': 1904, 'website': 3105, 'xd': 1607, 'anything': 3363, 'party': 569, 'trial': 2661, 'slowly': 332, 'skyrocket': 2511, 'damage': 3106, 'defense': 3463, 'tan': 3922, 'businesses': 1758, 'mastercard': 3566, 'um': 811, 'scar': 2024, 'upper': 1489, 'lord': 715, 'proof': 2021, 'indices': 1080, 'nvda': 2384, 'empty': 1081, 'gobble': 1490, 'otm': 1796, 'release': 321, 'web': 1166, 'naj': 3854, 'ass': 3881, 'india': 454, 'wish': 1609, 'totally': 1906, 'bomb': 3924, 'employee': 980, 'darn': 2149, 'rout': 798, 'nhod': 3677, 'slingshot': 3418, 'perform': 1610, 'tease': 84, 'percentile': 85, 'selection': 4051, 'score': 2636, 'represent': 1684, 'momo': 1361, 'mike': 1760, 'gl': 1213, 'throw': 3926, 'complain': 3107, 'product': 1492, 'private': 1212, 'floor': 3236, 'ruin': 3927, 'kinda': 683, 'nah': 1782, 'prasm': 3678, 'silicon': 333, 'hulu': 2402, 'speculation': 684, 'sound': 4049, 'events': 2512, 'cover': 3082, 'merck': 930, 'catch': 2599, 'shame': 3108, 'military': 3237, 'currently': 3928, 'club': 1761, 'nor': 3679, 'protection': 393, 'volumes': 3579, 'leadership': 2873, 'spring': 3238, 'upcoming': 3241, 'arrive': 3807, 'takers': 3958, 'cop': 2820, 'guggenheim': 3036, 'previous': 3109, 'monday': 3397, 'nice': 334, 'themselves': 3540, 'return': 2150, 'middle': 2025, 'tie': 3539, 'part': 2026, 'winter': 3110, 'privacy': 2027, 'others': 3808, 'bright': 1559, 'hack': 1611, 'patience': 2862, 'experts': 3930, 'our': 336, 'establish': 87, 'annual': 1612, 'democrats': 570, 'sequence': 2972, 'chair': 3343, 'broader': 3239, 'battle': 3931, 'sadly': 1214, 'rebound': 3680, 'come': 2151, 'ibdpartner': 3940, 'their': 571, 'havent': 935, 'metrics': 3512, 'fool': 2513, 'acquire': 2983, 'join': 1169, 'angry': 2863, 'correct': 3806, 'bargain': 89, 'takeover': 686, 'abbvie': 2514, 'aftermarket': 1382, 'give': 1500, 'finance': 2949, 'highcalloi': 218, 'shitty': 2740, 'better': 2515, 'yoy': 2284, 'spam': 1083, 'dispute': 1362, 'gappers': 2752, 'catalysts': 812, 'relationship': 3479, 'silver': 2846, 'plenty': 3398, 'joe': 1215, 'intra': 3156, 'outside': 90, 'children': 3399, 'sub': 3400, 'manufacture': 2028, 'blink': 813, 'bold': 284, 'seem': 1907, 'peter': 337, 'daystoexpire': 1613, 'disrupt': 3401, 'trim': 2974, 'appoint': 3761, 'church': 2029, 'absolute': 3819, 'dance': 1762, 'turkey': 931, 'inc': 2030, 'stink': 2516, 'asian': 687, 'mw': 208, 'brothers': 3403, 'terrible': 3122, 'robust': 3436, 'satisfy': 2743, 'pivot': 2760, 'brag': 3112, 'underwater': 932, 'hate': 688, 'white': 1614, 'xs': 1764, 'toilet': 3853, 'press': 4052, 'madness': 1014, 'drive': 2953, 'fearful': 2319, 'surpass': 2997, 'swing': 2405, 'flush': 2406, 'tv': 2169, 'continue': 2638, 'neck': 2639, 'guess': 3682, 'entertainment': 3827, 'resources': 4053, 'chop': 226, 'pros': 3683, 'innovation': 2031, 'punch': 3404, 'jam': 2052, 'portion': 1515, 'afterhours': 1910, 'tuesday': 1789, 'attack': 1216, 'welcome': 4054, 'protest': 3405, 'cambridge': 2407, 'steven': 1217, 'sometimes': 3441, 'favorable': 230, 'csx': 3874, 'your': 1766, 'chinese': 3242, 'generation': 2285, 'consider': 1494, 'basis': 3113, 'ez': 3253, 'option': 814, 'how': 712, 'consumer': 209, 'woods': 338, 'wet': 1615, 'over': 3305, 'jk': 3002, 'rank': 3800, 'jet': 2864, 'if': 1616, 'russia': 4055, 'useless': 689, 'define': 3114, 'vulnerable': 91, 'crypto': 2032, 'defer': 690, 'iq': 1363, 'administration': 3115, 'respect': 3031, 'cmg': 2409, 'winner': 3970, 'regard': 2640, 'trust': 3542, 'fourth': 894, 'custom': 634, 'north': 2152, 'drain': 1392, 'only': 1802, 'overreaction': 455, 'likely': 2971, 'approval': 1767, 'execs': 2865, 'slowdown': 1835, 'stage': 211, 'dau': 1218, 'larger': 1496, 'screw': 573, 'oh': 212, 'dot': 3275, 'trxc': 4056, 'plain': 2976, 'overblown': 3277, 'public': 1617, 'pain': 3133, 'implode': 3543, 'downturn': 3632, 'dominate': 1084, 'volatile': 2866, 'sometime': 3116, 'clf': 815, 'mr': 574, 'scratch': 1807, 'do': 394, 'triple': 3406, 'trough': 2886, 'theta': 2403, 'ryzen': 378, 'half': 2748, 'large': 2675, 'venture': 1768, 'there': 3544, 'spamming': 2977, 'tesla': 2065, 'convert': 3545, 'canopy': 1366, 'begin': 2153, 'opp': 1816, 'congress': 3546, 'feature': 3828, 'anytime': 1498, 'bubble': 213, 'insurance': 3117, 'zero': 2287, 'quickly': 457, 'leave': 2068, 'fundamentals': 2978, 'yuan': 2979, 'weekend': 4044, 'midterm': 1219, 'risk': 250, 'riley': 2517, 'nov': 2033, 'quote': 691, 'opposite': 1770, 'nasty': 2745, 'listen': 3134, 'rbc': 3118, 'ms': 4057, 'market': 477, 'fd': 3259, 'customers': 3039, 'entry': 1771, 'without': 1670, 'sl': 214, 'remove': 2981, 'alot': 1772, 'fuel': 3408, 'revpar': 4079, 'not': 1823, 'sort': 933, 'fraud': 1220, 'alive': 2034, 'ny': 184, 'whisper': 2552, 'sentiment': 3684, 'spotify': 341, 'find': 934, 'lesson': 576, 'two': 1499, 'googl': 706, 'daytrade': 816, 'unbelievable': 1221, 'effective': 4080, 'analysis': 88, 'ready': 4058, 'yolo': 2868, 'worldwide': 2035, 'ladies': 3291, 'hour': 4018, 'imminent': 215, 'gonna': 2519, 'gift': 458, 'hype': 1223, 'fellow': 3119, 'sa': 3120, 'pin': 3021, 'players': 3934, 'guy': 3634, 'ichimoku': 2747, 'boys': 3685, 'blockchain': 2982, 'ownership': 2036, 'cent': 936, 'tremendous': 1224, 'highly': 1225, 'curious': 3715, 'hundred': 3123, 'cs': 3882, 'exact': 1618, 'discover': 342, 'eoy': 3246, 'dinner': 2154, 'overdo': 3686, 'bend': 3488, 'bag': 2520, 'hes': 1912, 'citi': 93, 'pete': 3548, 'units': 499, 'page': 3409, 'label': 693, 'young': 1913, 'crap': 2839, 'typically': 94, 'bully': 459, 'bagholder': 1226, 'div': 3971, 'surface': 216, 'ya': 2330, 'mln': 2559, 'consistent': 3443, 'bollinger': 1082, 'finra': 314, 'weak': 507, 'harley': 2459, 'amc': 577, 'grab': 2410, 'shit': 895, 'hear': 3303, 'ing': 2037, 'financials': 3304, 'powder': 170, 'publish': 1773, 'double': 1915, 'anyway': 266, 'centerline': 3688, 'jury': 3175, 'shorty': 1086, 'years': 3551, 'up': 1272, 'monster': 818, 'robert': 3689, 'may': 578, 'basically': 1663, 'lack': 1227, 'bae': 343, 'gtfo': 1087, 'elon': 66, 'fyi': 837, 'regulation': 819, 'think': 461, 'rid': 820, 'cable': 986, 'flavor': 2870, 'collaboration': 270, 'matter': 3621, 'acquisitions': 1846, 'console': 3938, 'mover': 694, 'susquehanna': 1287, 'click': 2289, 'lynch': 3939, 'law': 1501, 'warner': 2750, 'life': 2914, 'look': 2290, 'natural': 695, 'contract': 938, 'beat': 3247, 'definition': 2521, 'pypl': 1228, 'majority': 2291, 'managers': 1229, 'soar': 2880, 'threat': 1560, 'capacity': 2155, 'able': 273, 'computers': 821, 'deny': 939, 'amount': 1368, 'hungry': 1561, 'fibonacci': 4060, 'active': 696, 'leg': 3232, 'kong': 823, 'instagram': 2411, 'talk': 2039, 'moon': 1088, 'just': 517, 'deck': 2986, 'suicide': 1917, 'drift': 2872, 'vol': 914, 'confident': 1369, 'coke': 1624, 'ain': 697, 'breakaway': 2641, 'foot': 2642, 'relations': 462, 'underway': 579, 'hello': 1583, 'jnj': 95, 'hurt': 2022, 'so': 1089, 'closely': 940, 'budget': 2156, 'isi': 1238, 'gsk': 1503, 'damn': 344, 'east': 3941, 'meh': 67, 'loss': 2643, 'ability': 463, 'code': 1774, 'development': 3692, 'stuff': 2412, 'carefully': 171, 'jamie': 3411, 'fail': 824, 'stks': 3693, 'new': 2881, 'inside': 3817, 'global': 96, 'rule': 2989, 'de': 2928, 'martin': 1090, 'align': 2158, 'additional': 2929, 'badly': 3407, 'pending': 1625, 'fear': 952, 'pennant': 2931, 'nope': 3818, 'fashion': 1626, 'donate': 2963, 'lowest': 825, 'bet': 2991, 'style': 1919, 'marketwatch': 2992, 'awful': 3417, 'campaign': 97, 'completion': 1775, 'dammit': 1231, 'frame': 698, 'xx': 2875, 'conf': 2293, 'restructure': 464, 'expand': 3124, 'spend': 1373, 'where': 2876, 'explore': 1776, 'wsj': 2072, 'class': 1504, 'internet': 3943, 'zone': 18, 'govt': 3338, 'tlry': 3413, 'moment': 1091, 'community': 3283, 'optum': 937, 'analyst': 3514, 'investment': 3248, 'cat': 826, 'eylea': 3658, 'propaganda': 38, 'weed': 827, 'str': 3923, 'adj': 3945, 'squeeze': 3263, 'ultimate': 3457, 'slower': 3844, 'event': 221, 'whether': 1864, 'nm': 828, 'warren': 3414, 'really': 1093, 'train': 3141, 'gooo': 4077, 'emotional': 582, 'monitor': 2415, 'ipad': 2294, 'lo': 3158, 'mom': 1374, 'crush': 1777, 'suspect': 1627, 'hide': 1929, 'daytradesetup': 3402, 'pepsi': 1094, 'confirmation': 172, 'hope': 3576, 'bad': 222, 'network': 98, 'support': 47, 'saw': 99, 'disappear': 943, 'police': 3365, 'planet': 2041, 'feed': 1233, 'downtrend': 944, 'iran': 2995, 'create': 1095, 'wear': 3735, 'four': 4063, 'discussion': 2296, 'bloodbath': 2042, 'broker': 2159, 'announce': 2120, 'center': 3126, 'rock': 1949, 'tell': 945, 'silent': 467, 've': 1506, 'pa': 2645, 'pump': 583, 'operate': 3681, 'min': 2297, 'fargo': 3278, 'bridge': 760, 'update': 1096, 'equipment': 1921, 'raid': 346, 'profile': 2755, 'soft': 3887, 'name': 540, 'trace': 3840, 'goldman': 1780, 'px': 3944, 'extra': 1781, 'bind': 3636, 'city': 3063, 'hundreds': 2646, 'winder': 1464, 'scan': 2375, 'sc': 3251, 'beyond': 3516, 'sink': 1097, 'amd': 1376, 'post': 3416, 'seller': 830, 'depress': 100, 'praise': 700, 'announcements': 1098, 'pass': 1377, 'generic': 3252, 'asses': 101, 'nasd': 1922, 'etf': 2062, 'liberal': 102, 'advise': 1099, 'largest': 2160, 'iex': 54, 'identify': 2648, 'copper': 1378, 'bath': 701, 'hahaha': 3127, 'harami': 1530, 'chipotle': 1379, 'invisalign': 711, 'bow': 2649, 'exhi': 1507, 'presentation': 1052, 'higher': 584, 'thesis': 1053, 'wednesday': 19, 'such': 2162, 'gov': 703, 'detect': 1629, 'scientific': 987, 'under': 104, 'bac': 1630, 'socialist': 585, 'abuse': 1101, 'months': 1783, 'fry': 831, 'vega': 1923, 'capex': 3129, 'gain': 3956, 'entire': 1924, 'loom': 2416, 'serve': 586, 'trash': 946, 'ultra': 1631, 'bump': 2996, 'angle': 1016, 'guide': 2532, 'allow': 2801, 'bounce': 2935, 'inevitable': 133, 'senior': 2385, 'corp': 3130, 'tag': 3080, 'sea': 705, 'manipulate': 3717, 'tone': 2163, 'celg': 2757, 'into': 2879, 'certain': 2414, 'fact': 1339, 'case': 2522, 'lng': 2046, 'fav': 3176, 'restaurants': 1102, 'breakfast': 3541, 'airline': 2758, 'paul': 2136, 'naz': 1632, 'jhook': 2164, 'con': 3507, 'dialysis': 1786, 'because': 348, 'always': 3821, 'co': 2300, 'relative': 1901, 'overvalue': 3559, 'influence': 3254, 'thats': 736, 'real': 2165, 'apple': 3517, 'aware': 2140, 'uncertainty': 1566, 'sciences': 1508, 'qtr': 2166, 'proper': 3059, 'cisco': 1509, 'fishy': 2523, 'pizza': 225, 'hahahahaha': 3131, 'brexit': 1511, 'pipeline': 1235, 'extreme': 2525, 'death': 2526, 'accept': 2048, 'stake': 947, 'fuckin': 1404, 'office': 1104, 'petroleum': 2998, 'spy': 3700, 'leaders': 1513, 'blue': 2049, 'power': 73, 'assess': 1449, 'condition': 3702, 'expirestoday': 3286, 'more': 3792, 'sing': 349, 'stanley': 587, 'valuable': 3560, 'present': 1236, 'upon': 833, 'moneyflow': 708, 'whisperbeat': 948, 'svp': 3739, 'hit': 2050, 'chevron': 2301, 'cheapies': 1926, 'god': 1062, 'third': 106, 'prior': 2633, 'daniel': 470, 'revise': 2766, 'twitter': 1787, 'cvs': 3034, 'activity': 3703, 'lee': 2167, 'pretty': 2882, 'button': 3098, 'inbound': 2168, 'er': 3554, 'whoop': 3257, 'these': 1105, 'fortnite': 1106, 'needham': 2302, 'sandberg': 350, 'security': 1107, 'vision': 3947, 'champ': 1244, 'try': 3017, 'gimme': 1381, 'duke': 653, 'silence': 1765, 'celebrate': 3481, 'regular': 441, 'jun': 1928, 'illegal': 3480, 'invest': 1108, 'prevail': 2759, 'digital': 46, 'yours': 4015, 'admit': 1358, 'brew': 3464, 'appreciate': 2869, 'attempt': 2528, 'whole': 1634, 'glorious': 1905, 'ai': 2634, 'initiate': 835, 'holiday': 709, 'sure': 2053, 'adidas': 227, 'gents': 3823, 'ohh': 1562, 'president': 915, 'lame': 3455, 'heavy': 351, 'fox': 352, 'discount': 1478, 'engineer': 309, 'mkts': 1737, 'nearly': 3192, 'while': 1635, 'recession': 353, 'why': 3946, 'tiffany': 156, 'both': 1109, 'remember': 228, 'imagine': 950, 'efforts': 2529, 'analytics': 3128, 'doji': 2305, 'black': 899, 'ty': 260, 'random': 3606, 'own': 1516, 'hair': 3824, 'foreign': 2975, 'leak': 3562, 'early': 354, 'jesus': 229, 'sessions': 339, 'almost': 1322, 'longterm': 2999, 'apples': 340, 'witness': 1493, 'ex': 2761, 'sphs': 3268, 'act': 107, 'constant': 3935, 'amp': 3936, 'tecfidera': 2418, 'bloody': 3419, 'graphics': 1519, 'fb': 1110, 'job': 1620, 'prepare': 3420, 'generally': 3864, 'by': 710, 'marijuana': 1120, 'russian': 1237, 'exactly': 3791, 'ads': 3261, 'buckle': 108, 'flood': 1790, 'punishment': 3000, 'analyze': 3262, 'tepper': 1019, 'secret': 2170, 'lod': 3563, 'sbux': 3564, 'resis': 1636, 'eom': 580, 'below': 2530, 'cigna': 1918, 'troll': 289, 'bil': 589, 'msft': 2531, 'gas': 3659, 'popcorn': 2054, 'guidance': 2763, 'truly': 2651, 'weeklies': 2764, 'aren': 1384, 'dumbest': 3083, 'unitedhealth': 1092, 'february': 1581, 'since': 1517, 'downward': 2171, 'insanity': 3415, 'hcv': 3826, 'losses': 2172, 'extend': 355, 'thru': 737, 'group': 838, 'dive': 3135, 'human': 1518, 'domestic': 954, 'fedex': 1791, 'blood': 356, 'heck': 2652, 'com': 590, 'political': 955, 'offset': 3587, 'eia': 1792, 'crm': 3851, 'piece': 3001, 'lunch': 839, 'larry': 1793, 'weigh': 110, 'shortly': 1103, 'campbell': 3018, 'canada': 1794, 'determine': 2841, 'face': 2765, 'roar': 3704, 'pair': 472, 'position': 591, 'hours': 801, 'android': 3366, 'kohl': 1637, 'management': 3490, 're': 1795, 'id': 3290, 'greed': 111, 'margin': 3776, 'note': 357, 'staff': 3267, 'slow': 2533, 'voice': 1240, 'grill': 1370, 'sell': 2653, 'nicely': 2767, 'proud': 3330, 'wheres': 231, 'corner': 3950, 'approve': 840, 'defend': 3705, 'nfl': 3607, 'consolidation': 1520, 'process': 1638, 'diamond': 3706, 'canadian': 3866, 'pig': 1930, 'send': 592, 'every': 3565, 'like': 3269, 'descend': 2055, 'become': 3908, 'parabola': 1241, 'stubborn': 232, 'zacks': 3136, 'competition': 3374, 'scary': 1112, 'cancer': 957, 'kap': 2173, 'shark': 359, 'summary': 1113, 'rt': 2178, 'bc': 713, 'reject': 1114, 'directly': 360, 'completely': 1797, 'lockheed': 3952, 'expect': 1798, 'soon': 1385, 'trip': 252, 'ltd': 112, 'cci': 714, 'exercise': 129, 'full': 1115, 'sideways': 3953, 'mil': 841, 'dowdupont': 2175, 'tock': 233, 'involve': 3933, 'jr': 2015, 'drop': 3375, 'cleveland': 4014, 'regret': 1851, 'congrats': 3320, 'divy': 958, 'noise': 2056, 'against': 1852, 'consumers': 1116, 'decisions': 234, 'premium': 1242, 'pullbacks': 1642, 'trump': 235, 'behind': 2419, 'transcripts': 1117, 'broad': 2768, 'sincealerted': 959, 'duck': 3799, 'baby': 3785, 'tommorow': 3748, 'figure': 3913, 'prospectus': 1457, 'disappoint': 1146, 'us': 3741, 'belong': 3954, 'actionable': 3423, 'subscribe': 3003, 'weekly': 842, 'decade': 1243, 'upgrade': 3005, 'cheap': 2137, 'hopeful': 1800, 'margins': 474, 'save': 114, 'cap': 2572, 'pretend': 2420, 'int': 362, 'crappy': 2535, 'david': 475, 'clueless': 960, 'semis': 2769, 'bernie': 961, 'ipo': 373, 'revenues': 2177, 'problem': 2883, 'valuations': 2654, 'live': 1640, 'stone': 2057, 'plummet': 4082, 'lam': 363, 'millionaire': 421, 'sit': 2421, 'woman': 732, 'swim': 2896, 'www': 2422, 'react': 3955, 'bonus': 3608, 'also': 1129, 'tree': 3829, 'remain': 1524, 'uncle': 3993, 'deal': 962, 'men': 236, 'oct': 3732, 'somewhere': 963, 'baba': 604, 'too': 3830, 'well': 2686, 'fight': 2307, 'though': 3446, 'canaccord': 3041, 'tire': 3745, 'paypal': 822, 'soup': 2884, 'si': 2770, 'clothe': 843, 'maxgain': 173, 'realty': 1932, 'rip': 682, 'major': 3831, 'revenue': 2308, 'bagger': 593, 'morn': 1950, 'americans': 2823, 'school': 2771, 'ram': 1388, 'revisit': 3743, 'emerge': 538, 'run': 3707, 'lean': 803, 'select': 2655, 'apparently': 1521, 'mutual': 3832, 'shop': 1133, 'intend': 3155, 'ball': 238, 'prime': 258, 'clients': 2179, 'sucker': 3323, 'limit': 2181, 'gt': 1525, 'bus': 3708, 'agree': 3519, 'plug': 3271, 'par': 2885, 'across': 3709, 'reiterate': 1933, 'quiet': 1389, 'hook': 478, 'hasnt': 479, 'thomas': 2708, 'dumpster': 3272, 'anyone': 480, 'vp': 1623, 'teeth': 3975, 'probe': 3148, 'doesnt': 2183, 'luck': 964, 'uber': 1934, 'happen': 4068, 'behave': 3769, 'root': 2657, 'portfolio': 618, 'tower': 2395, 'equity': 3460, 'usd': 965, 'reaction': 481, 'podcast': 2184, 'cod': 3609, 'anti': 2803, 'wfc': 594, 'conviction': 3726, 'quarter': 3006, 'insanely': 3007, 'investigate': 3274, 'gear': 1596, 'address': 2058, 'room': 2059, 'racist': 716, 'please': 3910, 'officially': 1963, 'sanction': 3981, 'cpu': 717, 'skin': 2309, 'esp': 3570, 'responsible': 3143, 'bezos': 3125, 'marathon': 2658, 'wind': 4069, 'southern': 925, 'systems': 1119, 'adobe': 3710, 'copy': 3347, 'morons': 2536, 'teens': 1246, 'standard': 366, 'space': 595, 'incoming': 967, 'doesn': 2111, 'rinse': 718, 'out': 2911, 'clearly': 1138, 'along': 3144, 'joke': 3572, 'roughly': 2060, 'narrative': 2476, 'dt': 596, 'american': 1390, 'spark': 1141, 'loose': 1391, 'appl': 2659, 'usual': 1526, 'warn': 3869, 'cos': 2061, 'contact': 3573, 'slash': 1641, 'himself': 3280, 'record': 2185, 'regardless': 1936, 'digit': 3426, 'stable': 1954, 'report': 969, 'evp': 1435, 'six': 719, 'nowhere': 720, 'hourly': 117, 'dispose': 2932, 'cont': 3786, 'package': 118, 'fat': 1892, 'down': 2773, 'cents': 3396, 'read': 2744, 'equities': 3574, 'impress': 2310, 'bitcoin': 2990, 'super': 119, 'produce': 3170, 'powell': 1664, 'beware': 2371, 'median': 520, 'youtube': 482, 'quant': 1799, 'euro': 2774, 'exec': 259, 'chill': 2537, 'proceed': 2775, 'clark': 1937, 'inventory': 239, 'mizuho': 3870, 'ba': 166, 'one': 1327, 'reach': 368, 'qualcomm': 1803, 'pe': 2933, 'resign': 3959, 'tarriffs': 1528, 'jefferies': 1248, 'yo': 597, 'starter': 3592, 'big': 1804, 'fomc': 970, 'cook': 971, 'minimum': 972, 'word': 3754, 'mau': 113, 'expert': 1433, 'investors': 1978, 'japan': 483, 'espn': 2311, 'pro': 1306, 'nicolaus': 3428, 'government': 973, 'harder': 3010, 'bat': 2534, 'locker': 3994, 'gather': 1249, 'crude': 1393, 'regulate': 2457, 'performance': 2776, 'opportunities': 1394, 'field': 3712, 'rally': 3279, 'bam': 4086, 'musk': 484, 'band': 598, 'sandbag': 974, 'bleeder': 1529, 'calculate': 3713, 'sh': 1980, 'ford': 1298, 'other': 1365, 'island': 3697, 'future': 242, 'thursday': 1250, 'worlds': 485, 'shoulda': 243, 'son': 1805, 'favorite': 949, 'hottest': 486, 'utilities': 2690, 'somehow': 1251, 'holders': 2662, 'no': 887, 'invite': 244, 'samsung': 1806, 'censorship': 2917, 'thus': 4072, 'facts': 1122, 'serious': 2777, 'difference': 1123, 'crisis': 1124, 'predictions': 1702, 'genius': 2539, 'nas': 975, 'ira': 2234, 'hell': 2235, 'beer': 3430, 'worry': 3293, 'horizon': 509, 'dh': 3896, 'cool': 2888, 'alone': 2889, 'ho': 2063, 'garbage': 2286, 'carry': 1396, 'endo': 3836, 'drink': 3281, 'wmt': 1252, 'intermediate': 4029, 'coin': 3179, 'tut': 1533, 'lead': 2540, 'cave': 4074, 'evercore': 3431, 'investments': 1453, 'iii': 369, 'enterprise': 370, 'millennials': 3714, 'liquidation': 1809, 'suntrust': 2248, 'potus': 2243, 'consistently': 976, 'must': 1871, 'bank': 1644, 'infinity': 3578, 'microcap': 245, 'asia': 977, 'alibaba': 2312, 'amzn': 2664, 'expensive': 1438, 'founder': 2424, 'scare': 1811, 'prevent': 1253, 'mute': 1977, 'epsbeat': 1812, 'hurry': 599, 'request': 3079, 'moviepass': 898, 'sar': 3995, 'material': 1534, 'ignorant': 2665, 'truck': 2890, 'buffett': 3719, 'know': 2542, 'high': 978, 'mexico': 177, 'mrkt': 2543, 'mins': 2064, 'extension': 723, 'pts': 1466, 'slip': 246, 'xi': 3433, 'gosh': 661, 'brand': 1813, 'mexican': 1639, 'radeon': 1397, 'phone': 442, 'max': 361, 'owe': 371, 'imply': 2313, 'cgc': 1646, 'beg': 3764, 'trader': 489, 'wife': 3580, 'letter': 3837, 'fan': 1255, 'tons': 2891, 'write': 2314, 'prop': 3218, 'accord': 725, 'couple': 1647, 'ascend': 490, 'broadcom': 2778, 'neg': 2892, 'huawei': 1316, 'chance': 2666, 'deep': 1814, 'daddy': 491, 'mms': 1658, 'port': 2315, 'morrow': 3960, 'flight': 1801, 'cash': 2893, 'apply': 3770, 'overnight': 121, 'overbought': 3727, 'sex': 1387, 'fri': 2316, 'woo': 1938, 'critical': 2808, 'next': 3846, 'enough': 1126, 'fintechnews': 3210, 'comeback': 3582, 'version': 2688, 'treasury': 1817, 'yum': 1536, 'upset': 2779, 'micro': 2066, 'structure': 2188, 'bio': 1939, 'tech': 3568, 'pour': 122, 'spike': 1256, 'blah': 2544, 'inch': 1649, 'after': 3149, 'materials': 2667, 'instead': 3909, 'piper': 1230, 'revolution': 190, 'advice': 1257, 'sleep': 727, 'house': 845, 'arts': 1537, 'christopher': 1522, 'directionally': 3213, 'fireworks': 492, 'outta': 3699, 'mubadala': 2425, 'bankers': 3964, 'slide': 1652, 'legs': 2644, 'mess': 123, 'clue': 3435, 'music': 981, 'ratio': 3216, 'pound': 2354, 'mobile': 1941, 'taiwan': 374, 'yea': 3163, 'share': 2951, 'dat': 1653, 'honeywell': 1769, 'educate': 2546, 'deliver': 1818, 'download': 728, 'fine': 729, 'reversal': 3424, 'freak': 2067, 'above': 847, 'cowen': 2051, 'barclays': 3099, 'starbucks': 1193, 'pony': 1942, 'perfection': 465, 'poor': 3583, 'color': 1654, 'rh': 1819, 'ed': 3219, 'somewhat': 848, 'motor': 3721, 'brutal': 2426, 'amazon': 494, 'items': 376, 'yup': 495, 'minus': 1621, 'notable': 2069, 'stories': 1943, 'although': 2018, 'evil': 2547, 'supporters': 601, 'fix': 675, 'tradewar': 124, 'rarely': 3690, 'trendline': 1260, 'different': 1539, 'craig': 136, 'logic': 2189, 'heaven': 4035, 'boss': 1656, 'liability': 953, 'pot': 2194, 'control': 2548, 'through': 3974, 'entries': 994, 'department': 1261, 'wild': 2593, 'joy': 449, 'tusa': 982, 'kick': 2734, 'spread': 983, 'little': 2527, 'bless': 1821, 'nervous': 249, 'boot': 2190, 'eff': 1974, 'delta': 2071, 'cheat': 2318, 'crystal': 157, 'irrelevant': 3285, 'available': 1657, 'todd': 1130, 'lottery': 496, 'hmmm': 2502, 'runup': 3585, 'western': 849, 'unknown': 125, 'technical': 3552, 'messenger': 3996, 'butt': 2549, 'or': 1398, 'go': 251, 'res': 3842, 'crook': 3150, 'aside': 603, 'nikes': 448, 'otherwise': 3586, 'dd': 2894, 'horse': 2130, 'dude': 2505, 'box': 1707, 'confirm': 253, 'thank': 377, 'fwp': 126, 'central': 674, 'you': 2147, 'dip': 254, 'casino': 539, 'price': 2668, 'inflation': 3229, 'outperform': 1282, 'pause': 1399, 'beautiful': 733, 'activision': 1622, 'them': 2945, 'competitors': 364, 'sanjay': 984, 'justify': 497, 'atm': 1201, 'then': 1263, 'timothy': 1659, 'indicate': 2365, 'forget': 1987, 'mortgage': 1131, 'ride': 2669, 'doj': 2844, 'potentially': 1822, 'haha': 498, 'spx': 2283, 'partnerships': 4034, 'suckers': 2973, 'grade': 1463, 'mind': 3723, 'negative': 1931, 'billions': 3439, 'develop': 734, 'morgan': 2742, 'funny': 3660, 'optimism': 692, 'gang': 3720, 'shareholders': 127, 'depend': 1660, 'fist': 1264, 'juice': 2191, 'symbol': 3243, 'clock': 3151, 'donald': 3152, 'asset': 985, 'tank': 2320, 'ahead': 2073, 'piggy': 3625, 'hi': 2074, 'dudes': 128, 'hasn': 1661, 'william': 1400, 'check': 3138, 'lottos': 2550, 'reentry': 3440, 'great': 3843, 'fud': 1421, 'steel': 1946, 'beauty': 1317, 'gross': 2075, 'celgene': 2299, 'thvt': 1662, 'screen': 1597, 'geez': 3038, 'gen': 3815, 'mkt': 1118, 'watchers': 1401, 'idiot': 1291, 'debut': 1947, 'scenario': 2321, 'argus': 1824, 'addict': 2710, 'gilead': 2551, 'crucial': 1678, 'hf': 1728, 'delist': 130, 'eow': 500, 'fast': 3588, 'window': 607, 'buckingham': 1825, 'runner': 3139, 'mid': 3722, 'iphones': 2076, 'apps': 2192, 'halloween': 131, 'nd': 1343, 'lady': 1948, 'faith': 3589, 'put': 1826, 'information': 1266, 'fill': 1402, 'travel': 2919, 'laugh': 3811, 'da': 2325, 'replace': 942, 'txn': 3153, 'escalate': 132, 'mad': 3972, 'ones': 1063, 'her': 3322, 'keep': 3016, 'initiations': 3154, 'merger': 1267, 'service': 2553, 'launch': 2038, 'scale': 1779, 'chartmill': 2895, 'atleast': 51, 'justice': 3250, 'estate': 3288, 'form': 1550, 'failure': 468, 'nation': 224, 'destroy': 2193, 'collect': 2518, 'amateur': 608, 'correction': 2077, 'significant': 2554, 'scalp': 1540, 'range': 2427, 'enter': 2428, 'wrong': 1510, 'dma': 1403, 'roller': 2670, 'divide': 2079, 'setups': 3442, 'sudden': 1951, 'verdict': 562, 'win': 1290, 'naked': 2322, 'resort': 1132, 'instant': 2687, 'hrs': 610, 'light': 2303, 'moc': 1405, 'breather': 2304, 'boost': 367, 'analysts': 2323, 'series': 851, 'partnership': 3591, 'paper': 2772, 'divi': 134, 'overprice': 3444, 'kicker': 902, 'relevant': 3260, 'anthem': 2782, 'introduce': 2429, 'wise': 2430, 'shipments': 852, 'west': 2785, 'ur': 1695, 'rescue': 3445, 'none': 988, 'toward': 1406, 'platforms': 379, 'hey': 1952, 'forbes': 3812, 'recommendation': 501, 'reveal': 1125, 'gem': 863, 'shes': 611, 'goodness': 1666, 'whatsapp': 257, 'wth': 1021, 'probability': 4081, 'dog': 3270, 'unstoppable': 380, 'korea': 2783, 'number': 3292, 'barrel': 237, 'politics': 1541, 'whale': 613, 'dark': 4066, 'duty': 989, 'period': 3174, 'hopefully': 135, 'bitch': 2196, 'micron': 1269, 'minimal': 1953, 'interview': 3221, 'countries': 1407, 'exclusive': 1697, 'technicals': 3020, 'ive': 3447, 'treat': 2324, 'wasn': 3581, 'surely': 3448, 'table': 990, 'dema': 1173, 'lot': 2080, 'wonder': 4083, 'indian': 968, 'deeper': 1271, 'solutions': 1431, 'entertain': 3558, 'lightning': 2784, 'automatic': 2672, 'fund': 1830, 'highest': 223, 'money': 991, 'message': 739, 'communications': 721, 'biktarvy': 1831, 'pg': 1351, 'corporate': 381, 'agreement': 3326, 'wouldnt': 1840, 'outlook': 2197, 'bone': 3747, 'oil': 1651, 'nobody': 1532, 'disney': 2345, 'mouth': 722, 'january': 71, 'pant': 1955, 'pan': 1542, 'richer': 992, 'midterms': 1543, 'selloff': 1667, 'unable': 3496, 'want': 1409, 'pace': 854, 'mlr': 2141, 'anticipate': 3449, 'safer': 488, 'nvidia': 3473, 'rap': 2081, 'twitch': 3838, 'ish': 3327, 'flash': 4041, 'puppy': 740, 'walk': 1815, 'labor': 3157, 'opinions': 2898, 'bout': 979, 'cancel': 1956, 'comcast': 3450, 'llc': 993, 'success': 3593, 'boston': 614, 'chart': 1744, 'duh': 1273, 'icymi': 2899, 'cream': 103, 'speed': 2541, 'bowl': 615, 'mine': 1832, 'colin': 3381, 'buck': 1134, 'unite': 3973, 'execution': 2900, 'morris': 137, 'censor': 1668, 'improvement': 1544, 'ask': 502, 'finally': 616, 'divergence': 138, 'slight': 382, 'choo': 2198, 'hard': 383, 'friendly': 3847, 'fking': 1957, 'backtested': 1135, 'bk': 3121, 'hospital': 1274, 'xbox': 1265, 'sweep': 3612, 'commit': 617, 'tim': 3160, 'goin': 640, 'bln': 2555, 'pathetic': 1958, 'whose': 2631, 'buyer': 4085, 'td': 2078, 'buzz': 2431, 'education': 3289, 'cloud': 1268, 'yest': 3643, 'advertise': 941, 'fun': 1200, 'jpmorgan': 2456, 'end': 1828, 'jones': 139, 'tmr': 2326, 'hr': 1270, 'hop': 1829, 'core': 1833, 'hmny': 3976, 'division': 996, 'chipmaker': 3453, 'vehicle': 855, 'dow': 1669, 'age': 3295, 'hughes': 1834, 'expiration': 2471, 'suit': 4067, 'wipe': 3456, 'fellas': 2084, 'apart': 445, 'maker': 1275}\n"
     ]
    },
    {
     "data": {
      "text/plain": [
       "4086"
      ]
     },
     "execution_count": 40,
     "metadata": {},
     "output_type": "execute_result"
    }
   ],
   "source": [
    "\"\"\"\n",
    "Set the following variables:\n",
    "    vocab\n",
    "    id2vocab\n",
    "    filtered\n",
    "\"\"\"\n",
    "\n",
    "#TODO Implement\n",
    "\n",
    "# A dictionary for the `filtered_words`. The key is the word and value is an id that represents the word. \n",
    "vocab = {word: ii for ii, word in enumerate(filtered_words, 1)}\n",
    "print(vocab)\n",
    "# Reverse of the `vocab` dictionary. The key is word id and value is the word. \n",
    "id2vocab = {ii: word for ii, word in vocab.items()}\n",
    "\n",
    "# tokenized with the words not in `filtered_words` removed.\n",
    "tokenized = [preprocess(message) for message in messages]\n",
    "filtered = [[val for val in ll if val in vocab] for ll in tokenized]\n",
    "len(vocab)"
   ]
  },
  {
   "cell_type": "markdown",
   "metadata": {},
   "source": [
    "### Balancing the classes\n",
    "Let's do a few last pre-processing steps. If we look at how our twits are labeled, we'll find that 50% of them are neutral. This means that our network will be 50% accurate just by guessing 0 every single time. To help our network learn appropriately, we'll want to balance our classes.\n",
    "That is, make sure each of our different sentiment scores show up roughly as frequently in the data.\n",
    "\n",
    "What we can do here is go through each of our examples and randomly drop twits with neutral sentiment. What should be the probability we drop these twits if we want to get around 20% neutral twits starting at 50% neutral? We should also take this opportunity to remove messages with length 0."
   ]
  },
  {
   "cell_type": "code",
   "execution_count": null,
   "metadata": {},
   "outputs": [],
   "source": [
    "balanced = {'messages': [], 'sentiments':[]}\n",
    "\n",
    "n_neutral = sum(1 for each in sentiments if each == 2)\n",
    "N_examples = len(sentiments)\n",
    "keep_prob = (N_examples - n_neutral)/4/n_neutral\n",
    "\n",
    "for idx, sentiment in enumerate(sentiments):\n",
    "    message = filtered[idx]\n",
    "    if len(message) == 0:\n",
    "        # skip this message because it has length zero\n",
    "        continue\n",
    "    elif sentiment != 2 or random.random() < keep_prob:\n",
    "        balanced['messages'].append(message)\n",
    "        balanced['sentiments'].append(sentiment) "
   ]
  },
  {
   "cell_type": "markdown",
   "metadata": {},
   "source": [
    "If you did it correctly, you should see the following result "
   ]
  },
  {
   "cell_type": "code",
   "execution_count": null,
   "metadata": {},
   "outputs": [],
   "source": [
    "n_neutral = sum(1 for each in balanced['sentiments'] if each == 2)\n",
    "N_examples = len(balanced['sentiments'])\n",
    "n_neutral/N_examples"
   ]
  },
  {
   "cell_type": "markdown",
   "metadata": {},
   "source": [
    "Finally let's convert our tokens into integer ids which we can pass to the network."
   ]
  },
  {
   "cell_type": "code",
   "execution_count": 12,
   "metadata": {},
   "outputs": [],
   "source": [
    "token_ids = [[vocab[word] for word in message] for message in balanced['messages']]\n",
    "sentiments = balanced['sentiments']"
   ]
  },
  {
   "cell_type": "markdown",
   "metadata": {},
   "source": [
    "## Neural Network\n",
    "Now we have our vocabulary which means we can transform our tokens into ids, which are then passed to our network. So, let's define the network now!\n",
    "\n",
    "Here is a nice diagram showing the network we'd like to build: \n",
    "\n",
    "#### Embed -> RNN -> Dense -> Softmax\n",
    "### Implement the text classifier\n",
    "Before we build text classifier, if you remember from the other network that you built in  \"Sentiment Analysis with an RNN\"  exercise  - which there, the network called \" SentimentRNN\", here we named it \"TextClassifer\" - consists of three main parts: 1) init function `__init__` 2) forward pass `forward`  3) hidden state `init_hidden`. \n",
    "\n",
    "This network is pretty similar to the network you built expect in the  `forward` pass, we use softmax instead of sigmoid. The reason we are not using sigmoid is that the output of NN is not a binary. In our network, sentiment scores have 5 possible outcomes. We are looking for an outcome with the highest probability thus softmax is a better choice."
   ]
  },
  {
   "cell_type": "code",
   "execution_count": 10,
   "metadata": {},
   "outputs": [
    {
     "name": "stdout",
     "output_type": "stream",
     "text": [
      "No GPU available, training on CPU.\n"
     ]
    }
   ],
   "source": [
    "# First checking if GPU is available\n",
    "train_on_gpu=torch.cuda.is_available()\n",
    "\n",
    "if(train_on_gpu):\n",
    "    print('Training on GPU.')\n",
    "else:\n",
    "    print('No GPU available, training on CPU.')\n",
    "\n",
    "class TextClassifier(nn.Module):\n",
    "    def __init__(self, vocab_size, embed_size, lstm_size, output_size, lstm_layers=1, dropout=0.1):\n",
    "        \"\"\"\n",
    "        Initialize the model by setting up the layers.\n",
    "        \n",
    "        Parameters\n",
    "        ----------\n",
    "            vocab_size : The vocabulary size.\n",
    "            embed_size : The embedding layer size.\n",
    "            lstm_size : The LSTM layer size.\n",
    "            output_size : The output size.\n",
    "            lstm_layers : The number of LSTM layers.\n",
    "            dropout : The dropout probability.\n",
    "        \"\"\"\n",
    "        \n",
    "        super().__init__()\n",
    "        self.vocab_size = vocab_size\n",
    "        self.embed_size = embed_size\n",
    "        self.lstm_size = lstm_size\n",
    "        self.output_size = output_size\n",
    "        self.lstm_layers = lstm_layers\n",
    "        self.dropout = dropout\n",
    "        \n",
    "        # TODO Implement\n",
    "\n",
    "        # Setup embedding layer\n",
    "        self.embedding = nn.Embedding(vocab_size, embed_size)\n",
    "        \n",
    "        # Setup additional layers\n",
    "        self.lstm = nn.LSTM(embed_size, lstm_size, lstm_layers, \n",
    "                            dropout=dropout, batch_first=False)\n",
    "        \n",
    "        # dropout layer\n",
    "        self.dropout = nn.Dropout(dropout)\n",
    "        \n",
    "        # linear and log softmax layers\n",
    "        self.fc = nn.Linear(lstm_size, output_size)\n",
    "        self.log_softmax = nn.LogSoftmax(dim=1)\n",
    "        \n",
    "        \n",
    "\n",
    "    def init_hidden(self, batch_size):\n",
    "        \"\"\" \n",
    "        Initializes hidden state\n",
    "        \n",
    "        Parameters\n",
    "        ----------\n",
    "            batch_size : The size of batches.\n",
    "        \n",
    "        Returns\n",
    "        -------\n",
    "            hidden_state\n",
    "            \n",
    "        \"\"\"\n",
    "        \n",
    "        # TODO Implement \n",
    "        \n",
    "        # Create two new tensors with sizes n_layers x batch_size x hidden_dim,\n",
    "        # initialized to zero, for hidden state and cell state of LSTM\n",
    "        \n",
    "        weight = next(self.parameters()).data\n",
    "\n",
    "        if (train_on_gpu):\n",
    "            hidden_state = (weight.new(self.lstm_layers, batch_size, self.lstm_size).zero_().cuda(),\n",
    "                  weight.new(self.lstm_layers, batch_size, self.lstm_size).zero_().cuda())\n",
    "        else:\n",
    "            hidden_state = (weight.new(self.lstm_layers, batch_size, self.lstm_size).zero_(),\n",
    "                      weight.new(self.lstm_layers, batch_size, self.lstm_size).zero_())\n",
    "\n",
    "        return hidden_state\n",
    "\n",
    "\n",
    "    \n",
    "    def forward(self, nn_input, hidden_state):\n",
    "        \"\"\"\n",
    "        Perform a forward pass of our model on nn_input.\n",
    "        \n",
    "        Parameters\n",
    "        ----------\n",
    "            nn_input : The batch of input to the NN.\n",
    "            hidden_state : The LSTM hidden state.\n",
    "\n",
    "        Returns\n",
    "        -------\n",
    "            logps: log softmax output\n",
    "            hidden_state: The new hidden state.\n",
    "\n",
    "        \"\"\"\n",
    "        # TODO Implement \n",
    "        # embeddings and lstm_out\n",
    "        nn_input = nn_input.long()\n",
    "        embeds = self.embedding(nn_input)\n",
    "        lstm_out, hidden_state = self.lstm(embeds, hidden_state)\n",
    "    \n",
    "        # stack up lstm outputs\n",
    "        lstm_out = lstm_out[-1,:,:]\n",
    "        \n",
    "        # dropout and fully-connected layer\n",
    "        out = self.dropout(lstm_out)\n",
    "        out = self.fc(out)\n",
    "        # log softmax function\n",
    "        logps = self.log_softmax(out)\n",
    "        \n",
    "        # return last log softmax output and hidden state\n",
    "        return logps, hidden_state"
   ]
  },
  {
   "cell_type": "markdown",
   "metadata": {},
   "source": [
    "### View Model"
   ]
  },
  {
   "cell_type": "code",
   "execution_count": 11,
   "metadata": {},
   "outputs": [
    {
     "name": "stdout",
     "output_type": "stream",
     "text": [
      "TextClassifier(\n",
      "  (embedding): Embedding(4086, 10)\n",
      "  (lstm): LSTM(10, 6, num_layers=2, dropout=0.3)\n",
      "  (dropout): Dropout(p=0.3)\n",
      "  (fc): Linear(in_features=6, out_features=5, bias=True)\n",
      "  (log_softmax): LogSoftmax()\n",
      ")\n",
      "tensor([[-1.2510, -2.0232, -2.0472, -1.5214, -1.4523],\n",
      "        [-1.3035, -1.9820, -2.0167, -1.4380, -1.5135],\n",
      "        [-1.2960, -1.9648, -2.0265, -1.4662, -1.4978],\n",
      "        [-1.2661, -1.9721, -2.0007, -1.4735, -1.5393]],\n",
      "       grad_fn=<LogSoftmaxBackward>)\n"
     ]
    }
   ],
   "source": [
    "# set the \"set_default_tensor_type\" to \"torch.cuda.FloatTensor\"\n",
    "# torch.set_default_tensor_type('torch.cuda.FloatTensor')\n",
    "device = torch.device(\"cuda:0\" if torch.cuda.is_available() else \"cpu\")\n",
    "\n",
    "model = TextClassifier(len(vocab), 10, 6, 5, dropout=0.3, lstm_layers=2)\n",
    "model.to(device)\n",
    "model.embedding.weight.data.uniform_(-1, 1)\n",
    "input = torch.randint(0, 1000, (5, 4), dtype=torch.int64)\n",
    "hidden = model.init_hidden(4)\n",
    "print(model)\n",
    "logps, _ = model.forward(input, hidden)\n",
    "print(logps)\n"
   ]
  },
  {
   "cell_type": "markdown",
   "metadata": {},
   "source": [
    "## Training\n",
    "### DataLoaders and Batching\n",
    "Now we should build a generator that we can use to loop through our data. It'll be more efficient if we can pass our sequences in as batches. Our input tensors should look like `(sequence_length, batch_size)`. So if our sequences are 40 tokens long and we pass in 25 sequences, then we'd have an input size of `(40, 25)`.\n",
    "\n",
    "If we set our sequence length to 40, what do we do with messages that are more or less than 40 tokens? For messages with fewer than 40 tokens, we will pad the empty spots with zeros. We should be sure to **left** pad so that the RNN starts from nothing before going through the data. If the message has 20 tokens, then the first 20 spots of our 40 long sequence will be 0. If a message has more than 40 tokens, we'll just keep the first 40 tokens."
   ]
  },
  {
   "cell_type": "code",
   "execution_count": 12,
   "metadata": {},
   "outputs": [],
   "source": [
    "def dataloader(messages, labels, sequence_length=30, batch_size=32, shuffle=False):\n",
    "    \"\"\" \n",
    "    Build a dataloader.\n",
    "    \"\"\"\n",
    "    if shuffle:\n",
    "        indices = list(range(len(messages)))\n",
    "        random.shuffle(indices)\n",
    "        messages = [messages[idx] for idx in indices]\n",
    "        labels = [labels[idx] for idx in indices]\n",
    "\n",
    "    total_sequences = batch_size*int(len(messages)/batch_size)\n",
    "\n",
    "    for ii in range(0, total_sequences, batch_size):\n",
    "        batch_messages = messages[ii: ii+batch_size]\n",
    "        \n",
    "        # First initialize a tensor of all zeros\n",
    "        batch = torch.zeros((sequence_length, len(batch_messages)), dtype=torch.int64)\n",
    "        for batch_num, tokens in enumerate(batch_messages):\n",
    "            token_tensor = torch.tensor(tokens)\n",
    "            # Left pad!\n",
    "            start_idx = max(sequence_length - len(token_tensor), 0)\n",
    "            batch[start_idx:, batch_num] = token_tensor[:sequence_length]\n",
    "        \n",
    "        label_tensor = torch.tensor(labels[ii: ii+len(batch_messages)])\n",
    "        \n",
    "        yield batch, label_tensor"
   ]
  },
  {
   "cell_type": "markdown",
   "metadata": {},
   "source": [
    "### Training and  Validation\n",
    "With our data in nice shape, we'll split it into training and validation sets."
   ]
  },
  {
   "cell_type": "code",
   "execution_count": 45,
   "metadata": {},
   "outputs": [
    {
     "name": "stdout",
     "output_type": "stream",
     "text": [
      "Train set: \t\t821298 \n",
      "Validation set: \t205325\n"
     ]
    },
    {
     "data": {
      "text/plain": [
       "[4, 4, 3, 3, 0]"
      ]
     },
     "execution_count": 45,
     "metadata": {},
     "output_type": "execute_result"
    }
   ],
   "source": [
    "\"\"\"\n",
    "Split data into training and validation datasets. Use an appropriate split size.\n",
    "The features are the `token_ids` and the labels are the `sentiments`.\n",
    "\"\"\"   \n",
    "\n",
    "# TODO Implement \n",
    "split_frac = 0.8\n",
    "\n",
    "## split data into training and validation data (features and labels)\n",
    "\n",
    "split_idx = int(len(token_ids)*split_frac)\n",
    "\n",
    "train_features = token_ids[:split_idx]\n",
    "valid_features = token_ids[split_idx:]\n",
    "train_labels = sentiments[:split_idx]\n",
    "valid_labels = sentiments[split_idx:]\n",
    "\n",
    "## print out the shapes of your resultant feature data\n",
    "print(\"Train set: \\t\\t{}\".format(len(train_features)), \n",
    "      \"\\nValidation set: \\t{}\".format(len(valid_features)))\n",
    "\n",
    "train_features[:5]\n",
    "train_labels[:5]"
   ]
  },
  {
   "cell_type": "code",
   "execution_count": 46,
   "metadata": {},
   "outputs": [
    {
     "name": "stderr",
     "output_type": "stream",
     "text": [
      "/Users/leehongkai/anaconda/envs/trading/lib/python3.5/site-packages/torch/nn/modules/rnn.py:54: UserWarning: dropout option adds dropout after all but last recurrent layer, so non-zero dropout expects num_layers greater than 1, but got dropout=0.3 and num_layers=1\n",
      "  \"num_layers={}\".format(dropout, num_layers))\n"
     ]
    }
   ],
   "source": [
    "text_batch, labels = next(iter(dataloader(train_features, train_labels, sequence_length=20, batch_size=64)))\n",
    "model = TextClassifier(len(vocab)+1, 200, 128, 5, dropout=0.3)\n",
    "hidden = model.init_hidden(64)\n",
    "logps, hidden = model.forward(text_batch, hidden)"
   ]
  },
  {
   "cell_type": "markdown",
   "metadata": {},
   "source": [
    "### Training\n",
    "It's time to train the neural network!"
   ]
  },
  {
   "cell_type": "code",
   "execution_count": 47,
   "metadata": {},
   "outputs": [
    {
     "data": {
      "text/plain": [
       "TextClassifier(\n",
       "  (embedding): Embedding(4087, 1024)\n",
       "  (lstm): LSTM(1024, 512, num_layers=2, dropout=0.2)\n",
       "  (dropout): Dropout(p=0.2)\n",
       "  (fc): Linear(in_features=512, out_features=5, bias=True)\n",
       "  (log_softmax): LogSoftmax()\n",
       ")"
      ]
     },
     "execution_count": 47,
     "metadata": {},
     "output_type": "execute_result"
    }
   ],
   "source": [
    "device = torch.device(\"cuda\" if torch.cuda.is_available() else \"cpu\")\n",
    "\n",
    "model = TextClassifier(len(vocab)+1, 1024, 512, 5, lstm_layers=2, dropout=0.2)\n",
    "model.embedding.weight.data.uniform_(-1, 1)\n",
    "model.to(device)"
   ]
  },
  {
   "cell_type": "code",
   "execution_count": 19,
   "metadata": {
    "scrolled": false
   },
   "outputs": [
    {
     "name": "stdout",
     "output_type": "stream",
     "text": [
      "Starting epoch 1\n",
      "Epoch: 1/2... Step: 100... Loss: 1.371718...\n",
      "Epoch: 1/2... Step: 200... Loss: 1.276035...\n",
      "Epoch: 1/2... Step: 300... Loss: 1.280844...\n",
      "Epoch: 1/2... Step: 400... Loss: 1.237524...\n",
      "Epoch: 1/2... Step: 500... Loss: 1.236321...\n",
      "Epoch: 1/2... Step: 600... Loss: 1.207283...\n",
      "Epoch: 1/2... Step: 700... Loss: 1.283078...\n",
      "Epoch: 1/2... Step: 800... Loss: 1.287650...\n",
      "Epoch: 1/2... Step: 900... Loss: 1.266801...\n",
      "Epoch: 1/2... Step: 1000... Loss: 1.298173...\n",
      "Epoch: 1/2... Step: 1100... Loss: 1.182030...\n",
      "Epoch: 1/2... Step: 1200... Loss: 1.240853...\n",
      "Epoch: 1/2... Step: 1300... Loss: 1.248655...\n",
      "Epoch: 1/2... Step: 1400... Loss: 1.261769...\n",
      "Epoch: 1/2... Step: 1500... Loss: 1.219162...\n",
      "Epoch: 1/2... Step: 1600... Loss: 1.352841...\n",
      "Starting epoch 2\n",
      "Epoch: 2/2... Step: 100... Loss: 1.225981...\n",
      "Epoch: 2/2... Step: 200... Loss: 1.234021...\n",
      "Epoch: 2/2... Step: 300... Loss: 1.267791...\n",
      "Epoch: 2/2... Step: 400... Loss: 1.150922...\n",
      "Epoch: 2/2... Step: 500... Loss: 1.256547...\n",
      "Epoch: 2/2... Step: 600... Loss: 1.193883...\n",
      "Epoch: 2/2... Step: 700... Loss: 1.331839...\n",
      "Epoch: 2/2... Step: 800... Loss: 1.210670...\n",
      "Epoch: 2/2... Step: 900... Loss: 1.196160...\n",
      "Epoch: 2/2... Step: 1000... Loss: 1.259552...\n",
      "Epoch: 2/2... Step: 1100... Loss: 1.294706...\n",
      "Epoch: 2/2... Step: 1200... Loss: 1.340112...\n",
      "Epoch: 2/2... Step: 1300... Loss: 1.246072...\n",
      "Epoch: 2/2... Step: 1400... Loss: 1.285631...\n",
      "Epoch: 2/2... Step: 1500... Loss: 1.317477...\n",
      "Epoch: 2/2... Step: 1600... Loss: 1.239927...\n"
     ]
    }
   ],
   "source": [
    "# \"\"\"\n",
    "# Train your model with dropout. Make sure to clip your gradients.\n",
    "# Print the training loss, validation loss, and validation accuracy for every 100 steps.\n",
    "# \"\"\"\n",
    "\n",
    "# epochs = 2\n",
    "# batch_size = 512\n",
    "# learning_rate = 0.05\n",
    "# clip = 5\n",
    "\n",
    "# print_every = 100\n",
    "# criterion = nn.NLLLoss()\n",
    "# optimizer = optim.Adam(model.parameters(), lr=learning_rate)\n",
    "# model.train()\n",
    "\n",
    "# for epoch in range(epochs):\n",
    "#     print('Starting epoch {}'.format(epoch + 1))\n",
    "    \n",
    "#     steps = 0\n",
    "#     hidden = model.init_hidden(batch_size=batch_size)\n",
    "\n",
    "#     for text_batch, labels in dataloader(\n",
    "#             train_features, train_labels, batch_size=batch_size, sequence_length=20, shuffle=True):\n",
    "#         steps += 1\n",
    "        \n",
    "#         # Set Device\n",
    "#         text_batch, labels = text_batch.to(device), labels.to(device)\n",
    "#         for each in hidden:\n",
    "#             each.to(device)\n",
    "     \n",
    "#         # TODO Implement: Train Model\n",
    "#         # Creating new variables for the hidden state, otherwise\n",
    "#         # we'd backprop through the entire training history\n",
    "#         hidden = tuple([each.data for each in hidden])\n",
    "        \n",
    "#         # zero accumulated gradients\n",
    "#         model.zero_grad()\n",
    "\n",
    "#         # get the output from the model\n",
    "#         output, hidden = model(text_batch, hidden)\n",
    "        \n",
    "#         # calculate the loss and perform backprop\n",
    "#         loss = criterion(output.squeeze(), labels.long())\n",
    "#         loss.backward()\n",
    "        \n",
    "#         # `clip_grad_norm` helps prevent the exploding gradient problem in RNNs / LSTMs.\n",
    "#         nn.utils.clip_grad_norm_(model.parameters(), clip)\n",
    "#         optimizer.step()\n",
    "        \n",
    "#         if steps % print_every == 0:\n",
    "#             model.eval()\n",
    "            \n",
    "#             # TODO Implement: Print metrics\n",
    "#             print(\"Epoch: {}/{}...\".format(epoch+1, epochs),\n",
    "#                   \"Step: {}...\".format(steps),\n",
    "#                   \"Loss: {:.6f}...\".format(loss.item()))\n",
    "            \n",
    "#             model.train()\n"
   ]
  },
  {
   "cell_type": "code",
   "execution_count": 48,
   "metadata": {},
   "outputs": [
    {
     "name": "stdout",
     "output_type": "stream",
     "text": [
      "Model's state_dict:\n",
      "embedding.weight \t torch.Size([4087, 1024])\n",
      "lstm.weight_ih_l0 \t torch.Size([2048, 1024])\n",
      "lstm.weight_hh_l0 \t torch.Size([2048, 512])\n",
      "lstm.bias_ih_l0 \t torch.Size([2048])\n",
      "lstm.bias_hh_l0 \t torch.Size([2048])\n",
      "lstm.weight_ih_l1 \t torch.Size([2048, 512])\n",
      "lstm.weight_hh_l1 \t torch.Size([2048, 512])\n",
      "lstm.bias_ih_l1 \t torch.Size([2048])\n",
      "lstm.bias_hh_l1 \t torch.Size([2048])\n",
      "fc.weight \t torch.Size([5, 512])\n",
      "fc.bias \t torch.Size([5])\n"
     ]
    }
   ],
   "source": [
    "# Print model's state_dict\n",
    "print(\"Model's state_dict:\")\n",
    "for param_tensor in model.state_dict():\n",
    "    print(param_tensor, \"\\t\", model.state_dict()[param_tensor].size())\n",
    "\n",
    "# # Print optimizer's state_dict\n",
    "# print(\"Optimizer's state_dict:\")\n",
    "# for var_name in optimizer.state_dict():\n",
    "#     print(var_name, \"\\t\", optimizer.state_dict()[var_name])"
   ]
  },
  {
   "cell_type": "code",
   "execution_count": 13,
   "metadata": {},
   "outputs": [
    {
     "name": "stdout",
     "output_type": "stream",
     "text": [
      "Model's state_dict:\n",
      "embedding.weight \t torch.Size([4087, 1024])\n",
      "lstm.weight_ih_l0 \t torch.Size([2048, 1024])\n",
      "lstm.weight_hh_l0 \t torch.Size([2048, 512])\n",
      "lstm.bias_ih_l0 \t torch.Size([2048])\n",
      "lstm.bias_hh_l0 \t torch.Size([2048])\n",
      "lstm.weight_ih_l1 \t torch.Size([2048, 512])\n",
      "lstm.weight_hh_l1 \t torch.Size([2048, 512])\n",
      "lstm.bias_ih_l1 \t torch.Size([2048])\n",
      "lstm.bias_hh_l1 \t torch.Size([2048])\n",
      "fc.weight \t torch.Size([5, 512])\n",
      "fc.bias \t torch.Size([5])\n"
     ]
    }
   ],
   "source": [
    "# Saving the model for later prediction use without retraining the model\n",
    "SAVE_MODEL_PATH = os.path.join('data', 'project_6_stocktwits', 'stocktwits_udacity_model_state_dict')\n",
    "\n",
    "## It is necessary to switch the model to cpu mode before saving if the model \n",
    "## will be loaded for cpu use later\n",
    "# model.eval()\n",
    "# model.to('cpu')\n",
    "\n",
    "## Saving the model state dict\n",
    "# torch.save(model.state_dict(), SAVE_MODEL_PATH)\n",
    "\n",
    "# Setting the model parameters according to trained model\n",
    "model = TextClassifier(4086+1, 1024, 512, 5, lstm_layers=2, dropout=0.2)\n",
    "model.embedding.weight.data.uniform_(-1, 1)\n",
    "model.to('cpu')\n",
    "\n",
    "# Relaoding the model state dict\n",
    "model.load_state_dict(torch.load(SAVE_MODEL_PATH))\n",
    "print(\"Model's state_dict:\")\n",
    "for param_tensor in model.state_dict():\n",
    "    print(param_tensor, \"\\t\", model.state_dict()[param_tensor].size())"
   ]
  },
  {
   "cell_type": "markdown",
   "metadata": {},
   "source": [
    "## Making Predictions\n",
    "### Prediction \n",
    "Okay, now that you have a trained model, try it on some new twits and see if it works appropriately. Remember that for any new text, you'll need to preprocess it first before passing it to the network. Implement the `predict` function to generate the prediction vector from a message."
   ]
  },
  {
   "cell_type": "code",
   "execution_count": 38,
   "metadata": {},
   "outputs": [],
   "source": [
    "import numpy as np\n",
    "\n",
    "def predict(text, model, vocab):\n",
    "    \"\"\" \n",
    "    Make a prediction on a single sentence.\n",
    "\n",
    "    Parameters\n",
    "    ----------\n",
    "        text : The string to make a prediction on.\n",
    "        model : The model to use for making the prediction.\n",
    "        vocab : Dictionary for word to word ids. The key is the word and the value is the word id.\n",
    "\n",
    "    Returns\n",
    "    -------\n",
    "        pred : Prediction vector\n",
    "    \"\"\"    \n",
    "    \n",
    "    # TODO Implement\n",
    "    \n",
    "    # Convert words to ids\n",
    "    print(text)\n",
    "    tokens = preprocess(text)\n",
    "    print(tokens)\n",
    "    \n",
    "    # Filter non-vocab words\n",
    "    tokens = [token for token in tokens if token in vocab]\n",
    "    print(tokens)\n",
    "    \n",
    "    # Convert words to ids\n",
    "    tokens =  [vocab[token] for token in tokens]\n",
    "    print(tokens)\n",
    "       \n",
    "    # Adding a batch dimension\n",
    "    token_tensor = torch.from_numpy(np.asarray(torch.FloatTensor(tokens).view(-1, 1)))\n",
    "    print(token_tensor)\n",
    "    # Get the NN output\n",
    "    hidden = model.init_hidden(1)\n",
    "    logps, _ = model.forward(token_tensor, hidden)\n",
    "    \n",
    "    # Take the exponent of the NN output to get a range of 0 to 1 for each label.\n",
    "    pred = torch.exp(logps)\n",
    "    \n",
    "    return pred\n"
   ]
  },
  {
   "cell_type": "code",
   "execution_count": 39,
   "metadata": {},
   "outputs": [
    {
     "name": "stdout",
     "output_type": "stream",
     "text": [
      "Google is working on self driving cars, I'm bullish on $goog\n",
      "['google', 'be', 'work', 'on', 'self', 'drive', 'cars', 'bullish', 'on']\n",
      "['google', 'work', 'self', 'drive', 'cars', 'bullish']\n",
      "[3037, 20, 2705, 2953, 1487, 1042]\n",
      "tensor([[3037.],\n",
      "        [  20.],\n",
      "        [2705.],\n",
      "        [2953.],\n",
      "        [1487.],\n",
      "        [1042.]])\n"
     ]
    },
    {
     "data": {
      "text/plain": [
       "tensor([[0.0612, 0.0278, 0.4305, 0.3736, 0.1069]], grad_fn=<ExpBackward>)"
      ]
     },
     "execution_count": 39,
     "metadata": {},
     "output_type": "execute_result"
    }
   ],
   "source": [
    "text = \"Google is working on self driving cars, I'm bullish on $goog\"\n",
    "\n",
    "model.eval()\n",
    "\n",
    "model.to(\"cpu\")\n",
    "predict(text, model, vocab)"
   ]
  },
  {
   "cell_type": "markdown",
   "metadata": {},
   "source": [
    "### Questions: What is the prediction of the model? What is the uncertainty of the prediction?\n",
    "** TODO: Answer Question**\n",
    "If the array is arranged as review_rating label from 4 to 0 (with 4 is the best rating), there is 25% probability it is the 4.\n",
    "\n",
    "There are also a few things that i hope that i can get your suggestions and comments.\n",
    "\n",
    "1. What is the best way to set the low_cutoff. I set it at 1e-5, which i am still not quite sure if it is the optimal one.\n",
    "\n",
    "2. My model trained with 2 epochs didn't seem to have significant improvement on lower training loss. Is there anything wrong with my classifier and training model set up?\n",
    "\n",
    "3. For the Making Prediction job, i can only run the prediction with GPU. I am not sure why i cannot run it on the CPU mode. I have posted the question on Knowledge as https://knowledge.udacity.com/questions/30679. Please help\n",
    "\n",
    "4. How do i know the 5 probabilities at the prediction output belongs to which rating?\n",
    "\n",
    "Many thanks!\n",
    "\n"
   ]
  },
  {
   "cell_type": "markdown",
   "metadata": {},
   "source": [
    "Now we have a trained model and we can make predictions. We can use this model to track the sentiments of various stocks by predicting the sentiments of twits as they are coming in. Now we have a stream of twits. For each of those twits, pull out the stocks mentioned in them and keep track of the sentiments. Remember that in the twits, ticker symbols are encoded with a dollar sign as the first character, all caps, and 2-4 letters, like $AAPL. Ideally, you'd want to track the sentiments of the stocks in your universe and use this as a signal in your larger model(s).\n",
    "\n",
    "## Testing\n",
    "### Load the Data "
   ]
  },
  {
   "cell_type": "code",
   "execution_count": 17,
   "metadata": {},
   "outputs": [],
   "source": [
    "with open(os.path.join('data', 'project_6_stocktwits', 'test_twits.json'), 'r') as f:\n",
    "    test_data = json.load(f)"
   ]
  },
  {
   "cell_type": "markdown",
   "metadata": {},
   "source": [
    "### Twit Stream"
   ]
  },
  {
   "cell_type": "code",
   "execution_count": 25,
   "metadata": {},
   "outputs": [],
   "source": [
    "def twit_stream():\n",
    "    for twit in test_data['data']:\n",
    "        yield twit\n",
    "\n",
    "# next(twit_stream())"
   ]
  },
  {
   "cell_type": "markdown",
   "metadata": {},
   "source": [
    "Using the `prediction` function, let's apply it to a stream of twits."
   ]
  },
  {
   "cell_type": "code",
   "execution_count": 26,
   "metadata": {},
   "outputs": [],
   "source": [
    "def score_twits(stream, model, vocab, universe):\n",
    "    \"\"\" \n",
    "    Given a stream of twits and a universe of tickers, return sentiment scores for tickers in the universe.\n",
    "    \"\"\"\n",
    "    for twit in stream:\n",
    "\n",
    "        # Get the message text\n",
    "        text = twit['message_body']\n",
    "        symbols = re.findall('\\$[A-Z]{2,4}', text)\n",
    "        score = predict(text, model, vocab)\n",
    "\n",
    "        for symbol in symbols:\n",
    "            if symbol in universe:\n",
    "                yield {'symbol': symbol, 'score': score, 'timestamp': twit['timestamp']}"
   ]
  },
  {
   "cell_type": "code",
   "execution_count": 27,
   "metadata": {},
   "outputs": [
    {
     "name": "stdout",
     "output_type": "stream",
     "text": [
      "tensor([[3620.],\n",
      "        [1549.],\n",
      "        [3138.],\n",
      "        [2911.],\n",
      "        [1538.],\n",
      "        [ 655.]])\n",
      "tensor([[1826.],\n",
      "        [ 147.],\n",
      "        [2753.],\n",
      "        [ 251.],\n",
      "        [1089.],\n",
      "        [  36.],\n",
      "        [ 452.],\n",
      "        [3505.],\n",
      "        [2773.],\n",
      "        [1272.],\n",
      "        [3526.],\n",
      "        [3240.],\n",
      "        [2290.],\n",
      "        [1245.],\n",
      "        [3830.]])\n",
      "tensor([[3149.],\n",
      "        [3554.]])\n"
     ]
    },
    {
     "data": {
      "text/plain": [
       "{'score': tensor([[4.4095e-06, 6.3261e-01, 1.3331e-03, 3.6427e-01, 1.7863e-03]],\n",
       "        grad_fn=<ExpBackward>),\n",
       " 'symbol': '$AAPL',\n",
       " 'timestamp': '2018-11-01T00:00:18Z'}"
      ]
     },
     "execution_count": 27,
     "metadata": {},
     "output_type": "execute_result"
    }
   ],
   "source": [
    "universe = {'$BBRY', '$AAPL', '$AMZN', '$BABA', '$YHOO', '$LQMT', '$FB', '$GOOG', '$BBBY', '$JNUG', '$SBUX', '$MU'}\n",
    "score_stream = score_twits(twit_stream(), model, vocab, universe)\n",
    "\n",
    "next(score_stream)"
   ]
  },
  {
   "cell_type": "markdown",
   "metadata": {},
   "source": [
    "That's it. You have successfully built a model for sentiment analysis! "
   ]
  },
  {
   "cell_type": "markdown",
   "metadata": {},
   "source": [
    "## Submission\n",
    "Now that you're done with the project, it's time to submit it. Click the submit button in the bottom right. One of our reviewers will give you feedback on your project with a pass or not passed grade. You can continue to the next section while you wait for feedback."
   ]
  }
 ],
 "metadata": {
  "kernelspec": {
   "display_name": "Python 3",
   "language": "python",
   "name": "python3"
  },
  "language_info": {
   "codemirror_mode": {
    "name": "ipython",
    "version": 3
   },
   "file_extension": ".py",
   "mimetype": "text/x-python",
   "name": "python",
   "nbconvert_exporter": "python",
   "pygments_lexer": "ipython3",
   "version": "3.5.6"
  }
 },
 "nbformat": 4,
 "nbformat_minor": 2
}
